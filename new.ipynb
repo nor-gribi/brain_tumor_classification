{
 "cells": [
  {
   "cell_type": "code",
   "execution_count": 2,
   "metadata": {},
   "outputs": [
    {
     "name": "stderr",
     "output_type": "stream",
     "text": [
      "2022-08-19 08:47:08.235152: I tensorflow/core/util/util.cc:169] oneDNN custom operations are on. You may see slightly different numerical results due to floating-point round-off errors from different computation orders. To turn them off, set the environment variable `TF_ENABLE_ONEDNN_OPTS=0`.\n",
      "2022-08-19 08:47:08.242904: W tensorflow/stream_executor/platform/default/dso_loader.cc:64] Could not load dynamic library 'libcudart.so.11.0'; dlerror: libcudart.so.11.0: cannot open shared object file: No such file or directory\n",
      "2022-08-19 08:47:08.242937: I tensorflow/stream_executor/cuda/cudart_stub.cc:29] Ignore above cudart dlerror if you do not have a GPU set up on your machine.\n"
     ]
    }
   ],
   "source": [
    "\n",
    "import os\n",
    "import shutil \n",
    "import glob\n",
    "import numpy as np\n",
    "import pandas as pd\n",
    "import seaborn as sns\n",
    "import matplotlib.pyplot as plt\n",
    "from skimage.io import imread, imsave\n",
    "from sklearn.model_selection import train_test_split\n",
    "import tensorflow as tf\n",
    "from tensorflow.keras.utils import plot_model\n",
    "from tensorflow.keras.preprocessing.image import ImageDataGenerator\n",
    "from tensorflow.keras.models import save_model, load_model, Model\n",
    "from tensorflow.keras.layers import Input, InputLayer, Dropout, Flatten, Dense, Activation, MaxPooling2D, Conv2D\n",
    "from sklearn.metrics import classification_report\n",
    "#from keras.utils import to_categorical\n",
    "from tensorflow.keras.layers import BatchNormalization\n",
    "from tensorflow.keras.optimizers import Adam\n",
    "from keras.callbacks import ModelCheckpoint, EarlyStopping\n",
    "import imutils\n",
    "from keras.models import Sequential\n",
    "import cv2 as cv2\n",
    "from tensorflow.keras.utils import load_img\n",
    "from tensorflow.keras.utils import img_to_array\n",
    "from tensorflow.keras.optimizers import Adam, SGD\n",
    "from tensorflow.keras.callbacks import EarlyStopping, ReduceLROnPlateau, ModelCheckpoint"
   ]
  },
  {
   "cell_type": "code",
   "execution_count": 3,
   "metadata": {},
   "outputs": [],
   "source": [
    "classes = ['glioma', 'meningioma', 'notumor', 'pituitary']\n",
    "data_co = {}\n",
    "main_path = '/home/noor/Documents/new/data/'\n",
    "for path in os.listdir(main_path):\n",
    "  for img in os.listdir(f'{main_path}{path}'):\n",
    "    data_co[img] = path\n",
    "    shutil.move(f'{main_path}{path}/{img}', main_path)"
   ]
  },
  {
   "cell_type": "code",
   "execution_count": 4,
   "metadata": {},
   "outputs": [],
   "source": [
    "!rm -d '/home/noor/Documents/new/data/glioma'\n",
    "!rm -d '/home/noor/Documents/new/data/meningioma'\n",
    "!rm -d '/home/noor/Documents/new/data/notumor'\n",
    "!rm -d '/home/noor/Documents/new/data/pituitary'"
   ]
  },
  {
   "cell_type": "code",
   "execution_count": 5,
   "metadata": {},
   "outputs": [
    {
     "data": {
      "text/plain": [
       "notumor       2000\n",
       "pituitary     1757\n",
       "meningioma    1645\n",
       "glioma        1624\n",
       "Name: class, dtype: int64"
      ]
     },
     "execution_count": 5,
     "metadata": {},
     "output_type": "execute_result"
    }
   ],
   "source": [
    "x = pd.DataFrame(data_co.items(), columns = ['image_id', 'class'])\n",
    "x['class'].value_counts()"
   ]
  },
  {
   "cell_type": "code",
   "execution_count": 6,
   "metadata": {},
   "outputs": [],
   "source": [
    "def crop_margins(path):\n",
    "  img = imread(path)\n",
    "  img = cv2.cvtColor(img, cv2.COLOR_BGR2RGB)\n",
    "  gray = cv2.cvtColor(img, cv2.COLOR_RGB2GRAY)\n",
    "  _,binary = cv2.threshold(gray, 20, 255, cv2.THRESH_BINARY)\n",
    "\n",
    "  # find contours from thresholded image\n",
    "  contours, hierarchy = cv2.findContours(binary, cv2.RETR_TREE, cv2.CHAIN_APPROX_SIMPLE)\n",
    "  items = cv2.findContours(binary.copy(), cv2.RETR_TREE, cv2.CHAIN_APPROX_SIMPLE)\n",
    "  contours = imutils.grab_contours(items)\n",
    "  c = max(contours, key =cv2.contourArea)\n",
    "  extLeft = tuple(c[c[:, :, 0].argmin()][0])\n",
    "  extRight = tuple(c[c[:, :, 0].argmax()][0])\n",
    "  extTop = tuple(c[c[:, :, 1].argmin()][0])\n",
    "  extBot = tuple(c[c[:, :, 1].argmax()][0])\n",
    "  ADD_PIXELS = 0 \n",
    "  new_img = img[extTop[1]-ADD_PIXELS:extBot[1]+ADD_PIXELS,extLeft[0]-ADD_PIXELS:extRight[0]+ADD_PIXELS].copy()\n",
    "  \n",
    "  # image resizing\n",
    "  IMG_SIZE = 224\n",
    "  new_img = cv2.resize(new_img,(IMG_SIZE,IMG_SIZE))\n",
    "  return new_img\n"
   ]
  },
  {
   "cell_type": "code",
   "execution_count": 7,
   "metadata": {},
   "outputs": [],
   "source": [
    "save_path = '/home/noor/Documents/new/dataset'\n",
    "in_path = os.path.join('/home/noor/Documents/new/data/')\n",
    "\n",
    "if not os.path.isdir(save_path):\n",
    "  os.makedirs(save_path)\n",
    "\n",
    "for img in os.listdir(in_path):\n",
    "  imsave(f'{save_path}/{img}', crop_margins(f'{in_path}/{img}'))"
   ]
  },
  {
   "cell_type": "code",
   "execution_count": 8,
   "metadata": {},
   "outputs": [],
   "source": [
    "subfiles = ['/testing/glioma/' , '/testing/meningioma/' , '/testing/notumor/' ,\n",
    "'/testing/pituitary/','/training/glioma/' , '/training/meningioma/' , '/training/notumor/' , '/training/pituitary/', '/validation/glioma/',\n",
    "'/validation/meningioma/', '/validation/notumor/', '/validation/pituitary/']\n",
    "\n",
    "for path in subfiles:\n",
    "  if not os.path.isdir(f'{save_path}/{path}'):\n",
    "    os.makedirs(f'{save_path}/{path}')"
   ]
  },
  {
   "cell_type": "code",
   "execution_count": 9,
   "metadata": {},
   "outputs": [
    {
     "data": {
      "text/html": [
       "<div>\n",
       "<style scoped>\n",
       "    .dataframe tbody tr th:only-of-type {\n",
       "        vertical-align: middle;\n",
       "    }\n",
       "\n",
       "    .dataframe tbody tr th {\n",
       "        vertical-align: top;\n",
       "    }\n",
       "\n",
       "    .dataframe thead th {\n",
       "        text-align: right;\n",
       "    }\n",
       "</style>\n",
       "<table border=\"1\" class=\"dataframe\">\n",
       "  <thead>\n",
       "    <tr style=\"text-align: right;\">\n",
       "      <th></th>\n",
       "      <th>image_id</th>\n",
       "      <th>class</th>\n",
       "    </tr>\n",
       "  </thead>\n",
       "  <tbody>\n",
       "    <tr>\n",
       "      <th>0</th>\n",
       "      <td>Tr-me_0274.jpg</td>\n",
       "      <td>meningioma</td>\n",
       "    </tr>\n",
       "    <tr>\n",
       "      <th>1</th>\n",
       "      <td>Tr-me_0858.jpg</td>\n",
       "      <td>meningioma</td>\n",
       "    </tr>\n",
       "    <tr>\n",
       "      <th>2</th>\n",
       "      <td>Tr-me_1037.jpg</td>\n",
       "      <td>meningioma</td>\n",
       "    </tr>\n",
       "    <tr>\n",
       "      <th>3</th>\n",
       "      <td>Tr-me_0821.jpg</td>\n",
       "      <td>meningioma</td>\n",
       "    </tr>\n",
       "    <tr>\n",
       "      <th>4</th>\n",
       "      <td>Tr-me_0308.jpg</td>\n",
       "      <td>meningioma</td>\n",
       "    </tr>\n",
       "  </tbody>\n",
       "</table>\n",
       "</div>"
      ],
      "text/plain": [
       "         image_id       class\n",
       "0  Tr-me_0274.jpg  meningioma\n",
       "1  Tr-me_0858.jpg  meningioma\n",
       "2  Tr-me_1037.jpg  meningioma\n",
       "3  Tr-me_0821.jpg  meningioma\n",
       "4  Tr-me_0308.jpg  meningioma"
      ]
     },
     "execution_count": 9,
     "metadata": {},
     "output_type": "execute_result"
    }
   ],
   "source": [
    "x.head()"
   ]
  },
  {
   "cell_type": "code",
   "execution_count": 10,
   "metadata": {},
   "outputs": [],
   "source": [
    "# training and testing set --> setting aside 20% of test , 80% of train \n",
    "\n",
    "x_train, x_test, y_train, y_test = train_test_split(x[['image_id']].values, x[['class']].values, test_size = 0.2, random_state = 8)\n",
    "\n",
    "# using same function above to split the validation set (0.25*0.8=0.2)\n",
    "\n",
    "x_train, x_val, y_train, y_val = train_test_split(x_train, y_train, test_size = 0.25, random_state=8)"
   ]
  },
  {
   "cell_type": "code",
   "execution_count": 11,
   "metadata": {},
   "outputs": [],
   "source": [
    "training = x_train.flatten().tolist()\n",
    "validation = x_val.flatten().tolist()\n",
    "testing = x_test.flatten().tolist()\n",
    "\n",
    "x.loc[x['image_id'].isin(training)].to_csv('training.csv', index=False, encoding='utf-8-sig')\n",
    "x.loc[x['image_id'].isin(validation)].to_csv('validation.csv', index=False, encoding='utf-8-sig')\n",
    "x.loc[x['image_id'].isin(testing)].to_csv('testing.csv', index=False, encoding='utf-8-sig')\n"
   ]
  },
  {
   "cell_type": "code",
   "execution_count": 12,
   "metadata": {},
   "outputs": [],
   "source": [
    "testing = pd.read_csv('./testing.csv')\n",
    "validation = pd.read_csv('./validation.csv')\n",
    "training = pd.read_csv('./training.csv')"
   ]
  },
  {
   "cell_type": "code",
   "execution_count": 13,
   "metadata": {},
   "outputs": [],
   "source": [
    "import shutil\n",
    "main_path = '/home/noor/Documents/new/dataset'\n",
    "for indx, row in training.iterrows():\n",
    "    shutil.move(f\"{main_path}/{row['image_id']}\",f\"{main_path}/training/{row['class']}/{row['image_id']}\")\n",
    "\n",
    "for indx, row in validation.iterrows():\n",
    "    shutil.move(f\"{main_path}/{row['image_id']}\",f\"{main_path}/validation/{row['class']}/{row['image_id']}\")\n",
    "\n",
    "\n",
    "for indx,row in testing.iterrows():\n",
    "    shutil.move(f\"{main_path}/{row['image_id']}\",f\"{main_path}/testing/{row['class']}/{row['image_id']}\") "
   ]
  },
  {
   "cell_type": "code",
   "execution_count": 14,
   "metadata": {},
   "outputs": [
    {
     "name": "stdout",
     "output_type": "stream",
     "text": [
      "Found 4215 images belonging to 4 classes.\n"
     ]
    }
   ],
   "source": [
    "train_data = ImageDataGenerator(rescale=1./255,\n",
    "                                    shear_range=0.2,\n",
    "                                    rotation_range=2,\n",
    "                                    zoom_range=0.2,\n",
    "                                    horizontal_flip=True,\n",
    "                                    vertical_flip=True)\n",
    "\n",
    "training_set = train_data.flow_from_directory(directory=\"/home/noor/Documents/new/dataset/training\",\n",
    "                                                  target_size=(224,224),\n",
    "                                                  class_mode='categorical',\n",
    "                                                  batch_size=32)"
   ]
  },
  {
   "cell_type": "code",
   "execution_count": 15,
   "metadata": {},
   "outputs": [
    {
     "name": "stdout",
     "output_type": "stream",
     "text": [
      "Found 1405 images belonging to 4 classes.\n"
     ]
    }
   ],
   "source": [
    "validation_data = ImageDataGenerator(rescale=1./255)\n",
    "\n",
    "validation_set = validation_data.flow_from_directory(directory=\"/home/noor/Documents/new/dataset/validation\",\n",
    "                                                        target_size=(224,224),\n",
    "                                                        class_mode='categorical',\n",
    "                                                        batch_size=32,\n",
    "                                                        shuffle = False)"
   ]
  },
  {
   "cell_type": "code",
   "execution_count": 16,
   "metadata": {},
   "outputs": [
    {
     "name": "stdout",
     "output_type": "stream",
     "text": [
      "Found 1406 images belonging to 4 classes.\n"
     ]
    }
   ],
   "source": [
    "test_set = validation_data.flow_from_directory(directory=\"/home/noor/Documents/sample/dataset/testing\",\n",
    "                                                        target_size=(224,224),\n",
    "                                                        class_mode='categorical',\n",
    "                                                        batch_size=1,\n",
    "                                                        shuffle = False)"
   ]
  },
  {
   "cell_type": "code",
   "execution_count": 16,
   "metadata": {},
   "outputs": [
    {
     "name": "stderr",
     "output_type": "stream",
     "text": [
      "2022-08-17 14:24:06.585279: W tensorflow/stream_executor/platform/default/dso_loader.cc:64] Could not load dynamic library 'libcuda.so.1'; dlerror: libcuda.so.1: cannot open shared object file: No such file or directory; LD_LIBRARY_PATH: /home/noor/.local/lib/python3.10/site-packages/cv2/../../lib64:\n",
      "2022-08-17 14:24:06.585321: W tensorflow/stream_executor/cuda/cuda_driver.cc:269] failed call to cuInit: UNKNOWN ERROR (303)\n",
      "2022-08-17 14:24:06.585349: I tensorflow/stream_executor/cuda/cuda_diagnostics.cc:156] kernel driver does not appear to be running on this host (noor): /proc/driver/nvidia/version does not exist\n",
      "2022-08-17 14:24:06.585819: I tensorflow/core/platform/cpu_feature_guard.cc:193] This TensorFlow binary is optimized with oneAPI Deep Neural Network Library (oneDNN) to use the following CPU instructions in performance-critical operations:  AVX2 AVX512F AVX512_VNNI FMA\n",
      "To enable them in other operations, rebuild TensorFlow with the appropriate compiler flags.\n"
     ]
    }
   ],
   "source": [
    "model5 = Sequential()\n",
    "\n",
    "# Convolutional layer 1\n",
    "model5.add(Conv2D(64,(7,7), input_shape=(224, 224, 3), padding='same', activation='relu'))\n",
    "model5.add(BatchNormalization())\n",
    "model5.add(MaxPooling2D(pool_size=(2,2)))\n",
    "\n",
    "#Convolutional layer 2\n",
    "model5.add(Conv2D(128,(7,7), padding='same', activation='relu'))\n",
    "model5.add(BatchNormalization())\n",
    "model5.add(MaxPooling2D(pool_size=(2,2)))\n",
    "\n",
    "# Convolutional layer 3\n",
    "model5.add(Conv2D(128,(7,7), padding='same', activation='relu'))\n",
    "model5.add(BatchNormalization())\n",
    "model5.add(MaxPooling2D(pool_size=(2,2)))\n",
    "\n",
    "# Convolutional layer 4\n",
    "model5.add(Conv2D(256,(7,7), padding='same', activation='relu'))\n",
    "model5.add(BatchNormalization())\n",
    "model5.add(MaxPooling2D(pool_size=(2,2)))\n",
    "\n",
    " # Convolutional layer 5\n",
    "model5.add(Conv2D(256,(7,7), padding='same', activation='relu'))\n",
    "model5.add(BatchNormalization())\n",
    "model5.add(MaxPooling2D(pool_size=(2,2)))\n",
    "\n",
    "# Convolutional layer 6\n",
    "model5.add(Conv2D(512,(7,7), padding='same', activation='relu'))\n",
    "model5.add(BatchNormalization())\n",
    "model5.add(MaxPooling2D(pool_size=(2,2)))\n",
    "\n",
    "model5.add(Flatten())\n",
    "\n",
    "# Full connect layers\n",
    "\n",
    "model5.add(Dense(units= 1024, activation='relu'))\n",
    "model5.add(Dropout(0.25))\n",
    "model5.add(Dense(units=512, activation='relu'))\n",
    "model5.add(Dropout(0.25))\n",
    "model5.add(Dense(units=4, activation='softmax'))\n",
    "\n",
    "\n",
    "\n",
    "model5.compile(optimizer=SGD(learning_rate=0.001), loss='categorical_crossentropy',\n",
    "                   metrics= ['categorical_accuracy'])"
   ]
  },
  {
   "cell_type": "code",
   "execution_count": 17,
   "metadata": {},
   "outputs": [
    {
     "name": "stdout",
     "output_type": "stream",
     "text": [
      "Epoch 1/100\n",
      "131/131 [==============================] - ETA: 0s - loss: 1.1345 - categorical_accuracy: 0.5694 \n",
      "Epoch 1: val_categorical_accuracy improved from -inf to 0.23619, saving model to model5_weights.h5\n",
      "131/131 [==============================] - 1890s 14s/step - loss: 1.1345 - categorical_accuracy: 0.5694 - val_loss: 1.4622 - val_categorical_accuracy: 0.2362 - lr: 0.0010\n",
      "Epoch 2/100\n",
      "131/131 [==============================] - ETA: 0s - loss: 0.7749 - categorical_accuracy: 0.6981 \n",
      "Epoch 2: val_categorical_accuracy improved from 0.23619 to 0.44477, saving model to model5_weights.h5\n",
      "131/131 [==============================] - 1858s 14s/step - loss: 0.7749 - categorical_accuracy: 0.6981 - val_loss: 1.2901 - val_categorical_accuracy: 0.4448 - lr: 0.0010\n",
      "Epoch 3/100\n",
      "131/131 [==============================] - ETA: 0s - loss: 0.6549 - categorical_accuracy: 0.7437 \n",
      "Epoch 3: val_categorical_accuracy improved from 0.44477 to 0.56977, saving model to model5_weights.h5\n",
      "131/131 [==============================] - 1919s 15s/step - loss: 0.6549 - categorical_accuracy: 0.7437 - val_loss: 1.0543 - val_categorical_accuracy: 0.5698 - lr: 0.0010\n",
      "Epoch 4/100\n",
      "131/131 [==============================] - ETA: 0s - loss: 0.5749 - categorical_accuracy: 0.7755 \n",
      "Epoch 4: val_categorical_accuracy improved from 0.56977 to 0.70058, saving model to model5_weights.h5\n",
      "131/131 [==============================] - 1908s 15s/step - loss: 0.5749 - categorical_accuracy: 0.7755 - val_loss: 0.6967 - val_categorical_accuracy: 0.7006 - lr: 0.0010\n",
      "Epoch 5/100\n",
      "131/131 [==============================] - ETA: 0s - loss: 0.5313 - categorical_accuracy: 0.7822 \n",
      "Epoch 5: val_categorical_accuracy improved from 0.70058 to 0.76381, saving model to model5_weights.h5\n",
      "131/131 [==============================] - 1894s 14s/step - loss: 0.5313 - categorical_accuracy: 0.7822 - val_loss: 0.5819 - val_categorical_accuracy: 0.7638 - lr: 0.0010\n",
      "Epoch 6/100\n",
      "131/131 [==============================] - ETA: 0s - loss: 0.4895 - categorical_accuracy: 0.8044 \n",
      "Epoch 6: val_categorical_accuracy improved from 0.76381 to 0.78052, saving model to model5_weights.h5\n",
      "131/131 [==============================] - 1907s 15s/step - loss: 0.4895 - categorical_accuracy: 0.8044 - val_loss: 0.5611 - val_categorical_accuracy: 0.7805 - lr: 0.0010\n",
      "Epoch 7/100\n",
      "131/131 [==============================] - ETA: 0s - loss: 0.4660 - categorical_accuracy: 0.8188 \n",
      "Epoch 7: val_categorical_accuracy did not improve from 0.78052\n",
      "131/131 [==============================] - 1882s 14s/step - loss: 0.4660 - categorical_accuracy: 0.8188 - val_loss: 0.5684 - val_categorical_accuracy: 0.7674 - lr: 0.0010\n",
      "Epoch 8/100\n",
      "131/131 [==============================] - ETA: 0s - loss: 0.4415 - categorical_accuracy: 0.8286 \n",
      "Epoch 8: val_categorical_accuracy improved from 0.78052 to 0.83212, saving model to model5_weights.h5\n",
      "131/131 [==============================] - 1849s 14s/step - loss: 0.4415 - categorical_accuracy: 0.8286 - val_loss: 0.4368 - val_categorical_accuracy: 0.8321 - lr: 0.0010\n",
      "Epoch 9/100\n",
      "131/131 [==============================] - ETA: 0s - loss: 0.4115 - categorical_accuracy: 0.8441 \n",
      "Epoch 9: val_categorical_accuracy did not improve from 0.83212\n",
      "131/131 [==============================] - 1812s 14s/step - loss: 0.4115 - categorical_accuracy: 0.8441 - val_loss: 0.6212 - val_categorical_accuracy: 0.7565 - lr: 0.0010\n",
      "Epoch 10/100\n",
      "131/131 [==============================] - ETA: 0s - loss: 0.3809 - categorical_accuracy: 0.8496 \n",
      "Epoch 10: val_categorical_accuracy did not improve from 0.83212\n",
      "131/131 [==============================] - 1834s 14s/step - loss: 0.3809 - categorical_accuracy: 0.8496 - val_loss: 0.7346 - val_categorical_accuracy: 0.7267 - lr: 0.0010\n",
      "Epoch 11/100\n",
      "131/131 [==============================] - ETA: 0s - loss: 0.3540 - categorical_accuracy: 0.8702 \n",
      "Epoch 11: val_categorical_accuracy improved from 0.83212 to 0.86483, saving model to model5_weights.h5\n",
      "131/131 [==============================] - 1793s 14s/step - loss: 0.3540 - categorical_accuracy: 0.8702 - val_loss: 0.3444 - val_categorical_accuracy: 0.8648 - lr: 0.0010\n",
      "Epoch 12/100\n",
      "131/131 [==============================] - ETA: 0s - loss: 0.3233 - categorical_accuracy: 0.8778 \n",
      "Epoch 12: val_categorical_accuracy improved from 0.86483 to 0.87137, saving model to model5_weights.h5\n",
      "131/131 [==============================] - 1770s 14s/step - loss: 0.3233 - categorical_accuracy: 0.8778 - val_loss: 0.3249 - val_categorical_accuracy: 0.8714 - lr: 0.0010\n",
      "Epoch 13/100\n",
      "131/131 [==============================] - ETA: 0s - loss: 0.3233 - categorical_accuracy: 0.8800 \n",
      "Epoch 13: val_categorical_accuracy did not improve from 0.87137\n",
      "131/131 [==============================] - 1762s 13s/step - loss: 0.3233 - categorical_accuracy: 0.8800 - val_loss: 0.7381 - val_categorical_accuracy: 0.7376 - lr: 0.0010\n",
      "Epoch 14/100\n",
      "131/131 [==============================] - ETA: 0s - loss: 0.2906 - categorical_accuracy: 0.8907 \n",
      "Epoch 14: val_categorical_accuracy did not improve from 0.87137\n",
      "131/131 [==============================] - 1882s 14s/step - loss: 0.2906 - categorical_accuracy: 0.8907 - val_loss: 0.9969 - val_categorical_accuracy: 0.7420 - lr: 0.0010\n",
      "Epoch 15/100\n",
      "131/131 [==============================] - ETA: 0s - loss: 0.2736 - categorical_accuracy: 0.8991 \n",
      "Epoch 15: val_categorical_accuracy did not improve from 0.87137\n",
      "131/131 [==============================] - 1909s 15s/step - loss: 0.2736 - categorical_accuracy: 0.8991 - val_loss: 0.6290 - val_categorical_accuracy: 0.7783 - lr: 0.0010\n",
      "Epoch 16/100\n",
      "131/131 [==============================] - ETA: 0s - loss: 0.2661 - categorical_accuracy: 0.9001 \n",
      "Epoch 16: val_categorical_accuracy improved from 0.87137 to 0.88372, saving model to model5_weights.h5\n",
      "131/131 [==============================] - 1785s 14s/step - loss: 0.2661 - categorical_accuracy: 0.9001 - val_loss: 0.2806 - val_categorical_accuracy: 0.8837 - lr: 0.0010\n",
      "Epoch 17/100\n",
      "131/131 [==============================] - ETA: 0s - loss: 0.2485 - categorical_accuracy: 0.9060 \n",
      "Epoch 17: val_categorical_accuracy did not improve from 0.88372\n",
      "131/131 [==============================] - 1765s 13s/step - loss: 0.2485 - categorical_accuracy: 0.9060 - val_loss: 1.0764 - val_categorical_accuracy: 0.7173 - lr: 0.0010\n",
      "Epoch 18/100\n",
      "131/131 [==============================] - ETA: 0s - loss: 0.2442 - categorical_accuracy: 0.9075 \n",
      "Epoch 18: val_categorical_accuracy improved from 0.88372 to 0.88881, saving model to model5_weights.h5\n",
      "131/131 [==============================] - 1852s 14s/step - loss: 0.2442 - categorical_accuracy: 0.9075 - val_loss: 0.3031 - val_categorical_accuracy: 0.8888 - lr: 0.0010\n",
      "Epoch 19/100\n",
      "131/131 [==============================] - ETA: 0s - loss: 0.2255 - categorical_accuracy: 0.9170 \n",
      "Epoch 19: val_categorical_accuracy did not improve from 0.88881\n",
      "131/131 [==============================] - 1882s 14s/step - loss: 0.2255 - categorical_accuracy: 0.9170 - val_loss: 0.3258 - val_categorical_accuracy: 0.8815 - lr: 0.0010\n",
      "Epoch 20/100\n",
      "131/131 [==============================] - ETA: 0s - loss: 0.2223 - categorical_accuracy: 0.9168 \n",
      "Epoch 20: val_categorical_accuracy improved from 0.88881 to 0.89390, saving model to model5_weights.h5\n",
      "131/131 [==============================] - 1790s 14s/step - loss: 0.2223 - categorical_accuracy: 0.9168 - val_loss: 0.2848 - val_categorical_accuracy: 0.8939 - lr: 0.0010\n",
      "Epoch 21/100\n",
      "131/131 [==============================] - ETA: 0s - loss: 0.1969 - categorical_accuracy: 0.9271 \n",
      "Epoch 21: val_categorical_accuracy improved from 0.89390 to 0.90044, saving model to model5_weights.h5\n",
      "131/131 [==============================] - 1784s 14s/step - loss: 0.1969 - categorical_accuracy: 0.9271 - val_loss: 0.2551 - val_categorical_accuracy: 0.9004 - lr: 0.0010\n",
      "Epoch 22/100\n",
      "131/131 [==============================] - ETA: 0s - loss: 0.2039 - categorical_accuracy: 0.9290 \n",
      "Epoch 22: val_categorical_accuracy did not improve from 0.90044\n",
      "131/131 [==============================] - 1782s 14s/step - loss: 0.2039 - categorical_accuracy: 0.9290 - val_loss: 0.2983 - val_categorical_accuracy: 0.8866 - lr: 0.0010\n",
      "Epoch 23/100\n",
      "131/131 [==============================] - ETA: 0s - loss: 0.1963 - categorical_accuracy: 0.9233 \n",
      "Epoch 23: val_categorical_accuracy improved from 0.90044 to 0.92078, saving model to model5_weights.h5\n",
      "131/131 [==============================] - 1782s 14s/step - loss: 0.1963 - categorical_accuracy: 0.9233 - val_loss: 0.2217 - val_categorical_accuracy: 0.9208 - lr: 0.0010\n",
      "Epoch 24/100\n",
      "131/131 [==============================] - ETA: 0s - loss: 0.1727 - categorical_accuracy: 0.9357 \n",
      "Epoch 24: val_categorical_accuracy did not improve from 0.92078\n",
      "131/131 [==============================] - 1780s 14s/step - loss: 0.1727 - categorical_accuracy: 0.9357 - val_loss: 0.2333 - val_categorical_accuracy: 0.9142 - lr: 0.0010\n",
      "Epoch 25/100\n",
      "131/131 [==============================] - ETA: 0s - loss: 0.1593 - categorical_accuracy: 0.9431 \n",
      "Epoch 25: val_categorical_accuracy did not improve from 0.92078\n",
      "131/131 [==============================] - 1785s 14s/step - loss: 0.1593 - categorical_accuracy: 0.9431 - val_loss: 0.8718 - val_categorical_accuracy: 0.7820 - lr: 0.0010\n",
      "Epoch 26/100\n",
      "131/131 [==============================] - ETA: 0s - loss: 0.1683 - categorical_accuracy: 0.9378 \n",
      "Epoch 26: val_categorical_accuracy did not improve from 0.92078\n",
      "131/131 [==============================] - 1790s 14s/step - loss: 0.1683 - categorical_accuracy: 0.9378 - val_loss: 1.8151 - val_categorical_accuracy: 0.6352 - lr: 0.0010\n",
      "Epoch 27/100\n",
      "131/131 [==============================] - ETA: 0s - loss: 0.1721 - categorical_accuracy: 0.9378 \n",
      "Epoch 27: val_categorical_accuracy improved from 0.92078 to 0.94113, saving model to model5_weights.h5\n",
      "131/131 [==============================] - 1786s 14s/step - loss: 0.1721 - categorical_accuracy: 0.9378 - val_loss: 0.1753 - val_categorical_accuracy: 0.9411 - lr: 0.0010\n",
      "Epoch 28/100\n",
      "131/131 [==============================] - ETA: 0s - loss: 0.1648 - categorical_accuracy: 0.9421 \n",
      "Epoch 28: val_categorical_accuracy did not improve from 0.94113\n",
      "131/131 [==============================] - 1781s 14s/step - loss: 0.1648 - categorical_accuracy: 0.9421 - val_loss: 0.1960 - val_categorical_accuracy: 0.9266 - lr: 0.0010\n",
      "Epoch 29/100\n",
      "131/131 [==============================] - ETA: 0s - loss: 0.1514 - categorical_accuracy: 0.9460 \n",
      "Epoch 29: val_categorical_accuracy did not improve from 0.94113\n",
      "131/131 [==============================] - 1784s 14s/step - loss: 0.1514 - categorical_accuracy: 0.9460 - val_loss: 0.4136 - val_categorical_accuracy: 0.8474 - lr: 0.0010\n",
      "Epoch 30/100\n",
      "131/131 [==============================] - ETA: 0s - loss: 0.1648 - categorical_accuracy: 0.9371 \n",
      "Epoch 30: val_categorical_accuracy did not improve from 0.94113\n",
      "131/131 [==============================] - 1789s 14s/step - loss: 0.1648 - categorical_accuracy: 0.9371 - val_loss: 0.1886 - val_categorical_accuracy: 0.9382 - lr: 0.0010\n",
      "Epoch 31/100\n",
      "131/131 [==============================] - ETA: 0s - loss: 0.1517 - categorical_accuracy: 0.9424 \n",
      "Epoch 31: val_categorical_accuracy did not improve from 0.94113\n",
      "131/131 [==============================] - 1787s 14s/step - loss: 0.1517 - categorical_accuracy: 0.9424 - val_loss: 0.1781 - val_categorical_accuracy: 0.9346 - lr: 0.0010\n",
      "Epoch 32/100\n",
      "131/131 [==============================] - ETA: 0s - loss: 0.1481 - categorical_accuracy: 0.9455 \n",
      "Epoch 32: val_categorical_accuracy did not improve from 0.94113\n",
      "131/131 [==============================] - 1792s 14s/step - loss: 0.1481 - categorical_accuracy: 0.9455 - val_loss: 1.0644 - val_categorical_accuracy: 0.7805 - lr: 0.0010\n",
      "Epoch 33/100\n",
      "131/131 [==============================] - ETA: 0s - loss: 0.1296 - categorical_accuracy: 0.9517 \n",
      "Epoch 33: ReduceLROnPlateau reducing learning rate to 0.00020000000949949026.\n",
      "\n",
      "Epoch 33: val_categorical_accuracy did not improve from 0.94113\n",
      "131/131 [==============================] - 1792s 14s/step - loss: 0.1296 - categorical_accuracy: 0.9517 - val_loss: 1.2080 - val_categorical_accuracy: 0.7507 - lr: 0.0010\n",
      "Epoch 34/100\n",
      "131/131 [==============================] - ETA: 0s - loss: 0.1108 - categorical_accuracy: 0.9610 \n",
      "Epoch 34: val_categorical_accuracy did not improve from 0.94113\n",
      "131/131 [==============================] - 1791s 14s/step - loss: 0.1108 - categorical_accuracy: 0.9610 - val_loss: 0.4299 - val_categorical_accuracy: 0.8554 - lr: 2.0000e-04\n",
      "Epoch 35/100\n",
      "131/131 [==============================] - ETA: 0s - loss: 0.1094 - categorical_accuracy: 0.9579 \n",
      "Epoch 35: val_categorical_accuracy did not improve from 0.94113\n",
      "131/131 [==============================] - 1786s 14s/step - loss: 0.1094 - categorical_accuracy: 0.9579 - val_loss: 0.1725 - val_categorical_accuracy: 0.9353 - lr: 2.0000e-04\n",
      "Epoch 36/100\n",
      "131/131 [==============================] - ETA: 0s - loss: 0.1070 - categorical_accuracy: 0.9627 \n",
      "Epoch 36: val_categorical_accuracy improved from 0.94113 to 0.94840, saving model to model5_weights.h5\n",
      "131/131 [==============================] - 1789s 14s/step - loss: 0.1070 - categorical_accuracy: 0.9627 - val_loss: 0.1481 - val_categorical_accuracy: 0.9484 - lr: 2.0000e-04\n",
      "Epoch 37/100\n",
      "131/131 [==============================] - ETA: 0s - loss: 0.0939 - categorical_accuracy: 0.9689 \n",
      "Epoch 37: val_categorical_accuracy did not improve from 0.94840\n",
      "131/131 [==============================] - 1799s 14s/step - loss: 0.0939 - categorical_accuracy: 0.9689 - val_loss: 0.1470 - val_categorical_accuracy: 0.9440 - lr: 2.0000e-04\n",
      "Epoch 38/100\n",
      "131/131 [==============================] - ETA: 0s - loss: 0.1009 - categorical_accuracy: 0.9644 \n",
      "Epoch 38: val_categorical_accuracy improved from 0.94840 to 0.95422, saving model to model5_weights.h5\n",
      "131/131 [==============================] - 1791s 14s/step - loss: 0.1009 - categorical_accuracy: 0.9644 - val_loss: 0.1308 - val_categorical_accuracy: 0.9542 - lr: 2.0000e-04\n",
      "Epoch 39/100\n",
      "131/131 [==============================] - ETA: 0s - loss: 0.1000 - categorical_accuracy: 0.9622 \n",
      "Epoch 39: val_categorical_accuracy improved from 0.95422 to 0.95567, saving model to model5_weights.h5\n",
      "131/131 [==============================] - 1797s 14s/step - loss: 0.1000 - categorical_accuracy: 0.9622 - val_loss: 0.1237 - val_categorical_accuracy: 0.9557 - lr: 2.0000e-04\n",
      "Epoch 40/100\n",
      "131/131 [==============================] - ETA: 0s - loss: 0.0907 - categorical_accuracy: 0.9687 \n",
      "Epoch 40: val_categorical_accuracy did not improve from 0.95567\n",
      "131/131 [==============================] - 1794s 14s/step - loss: 0.0907 - categorical_accuracy: 0.9687 - val_loss: 0.1463 - val_categorical_accuracy: 0.9448 - lr: 2.0000e-04\n",
      "Epoch 41/100\n",
      "131/131 [==============================] - ETA: 0s - loss: 0.0963 - categorical_accuracy: 0.9649 \n",
      "Epoch 41: val_categorical_accuracy did not improve from 0.95567\n",
      "131/131 [==============================] - 1814s 14s/step - loss: 0.0963 - categorical_accuracy: 0.9649 - val_loss: 0.1422 - val_categorical_accuracy: 0.9469 - lr: 2.0000e-04\n",
      "Epoch 42/100\n",
      "131/131 [==============================] - ETA: 0s - loss: 0.0818 - categorical_accuracy: 0.9720 \n",
      "Epoch 42: val_categorical_accuracy improved from 0.95567 to 0.96221, saving model to model5_weights.h5\n",
      "131/131 [==============================] - 1889s 14s/step - loss: 0.0818 - categorical_accuracy: 0.9720 - val_loss: 0.1192 - val_categorical_accuracy: 0.9622 - lr: 2.0000e-04\n",
      "Epoch 43/100\n",
      "131/131 [==============================] - ETA: 0s - loss: 0.0877 - categorical_accuracy: 0.9687 \n",
      "Epoch 43: val_categorical_accuracy did not improve from 0.96221\n",
      "131/131 [==============================] - 1876s 14s/step - loss: 0.0877 - categorical_accuracy: 0.9687 - val_loss: 0.3029 - val_categorical_accuracy: 0.8874 - lr: 2.0000e-04\n",
      "Epoch 44/100\n",
      "131/131 [==============================] - ETA: 0s - loss: 0.0970 - categorical_accuracy: 0.9687 \n",
      "Epoch 44: val_categorical_accuracy did not improve from 0.96221\n",
      "131/131 [==============================] - 1793s 14s/step - loss: 0.0970 - categorical_accuracy: 0.9687 - val_loss: 0.1315 - val_categorical_accuracy: 0.9557 - lr: 2.0000e-04\n",
      "Epoch 45/100\n",
      "131/131 [==============================] - ETA: 0s - loss: 0.0879 - categorical_accuracy: 0.9680 \n",
      "Epoch 45: val_categorical_accuracy did not improve from 0.96221\n",
      "131/131 [==============================] - 1743s 13s/step - loss: 0.0879 - categorical_accuracy: 0.9680 - val_loss: 0.1780 - val_categorical_accuracy: 0.9382 - lr: 2.0000e-04\n",
      "Epoch 46/100\n",
      "131/131 [==============================] - ETA: 0s - loss: 0.0907 - categorical_accuracy: 0.9701 \n",
      "Epoch 46: val_categorical_accuracy did not improve from 0.96221\n",
      "131/131 [==============================] - 1782s 14s/step - loss: 0.0907 - categorical_accuracy: 0.9701 - val_loss: 0.1303 - val_categorical_accuracy: 0.9586 - lr: 2.0000e-04\n",
      "Epoch 47/100\n",
      "131/131 [==============================] - ETA: 0s - loss: 0.0924 - categorical_accuracy: 0.9656 \n",
      "Epoch 47: val_categorical_accuracy did not improve from 0.96221\n",
      "131/131 [==============================] - 1857s 14s/step - loss: 0.0924 - categorical_accuracy: 0.9656 - val_loss: 0.1467 - val_categorical_accuracy: 0.9469 - lr: 2.0000e-04\n",
      "Epoch 48/100\n",
      "131/131 [==============================] - ETA: 0s - loss: 0.0774 - categorical_accuracy: 0.9727 \n",
      "Epoch 48: val_categorical_accuracy improved from 0.96221 to 0.96584, saving model to model5_weights.h5\n",
      "131/131 [==============================] - 1850s 14s/step - loss: 0.0774 - categorical_accuracy: 0.9727 - val_loss: 0.1122 - val_categorical_accuracy: 0.9658 - lr: 2.0000e-04\n",
      "Epoch 49/100\n",
      "131/131 [==============================] - ETA: 0s - loss: 0.0843 - categorical_accuracy: 0.9711 \n",
      "Epoch 49: val_categorical_accuracy did not improve from 0.96584\n",
      "131/131 [==============================] - 1746s 13s/step - loss: 0.0843 - categorical_accuracy: 0.9711 - val_loss: 0.1518 - val_categorical_accuracy: 0.9462 - lr: 2.0000e-04\n",
      "Epoch 50/100\n",
      "131/131 [==============================] - ETA: 0s - loss: 0.0809 - categorical_accuracy: 0.9723 \n",
      "Epoch 50: val_categorical_accuracy did not improve from 0.96584\n",
      "131/131 [==============================] - 1776s 14s/step - loss: 0.0809 - categorical_accuracy: 0.9723 - val_loss: 0.1133 - val_categorical_accuracy: 0.9608 - lr: 2.0000e-04\n",
      "Epoch 51/100\n",
      "131/131 [==============================] - ETA: 0s - loss: 0.0748 - categorical_accuracy: 0.9759 \n",
      "Epoch 51: val_categorical_accuracy did not improve from 0.96584\n",
      "131/131 [==============================] - 1847s 14s/step - loss: 0.0748 - categorical_accuracy: 0.9759 - val_loss: 0.1575 - val_categorical_accuracy: 0.9426 - lr: 2.0000e-04\n",
      "Epoch 52/100\n",
      "131/131 [==============================] - ETA: 0s - loss: 0.0845 - categorical_accuracy: 0.9682 \n",
      "Epoch 52: val_categorical_accuracy did not improve from 0.96584\n",
      "131/131 [==============================] - 1856s 14s/step - loss: 0.0845 - categorical_accuracy: 0.9682 - val_loss: 0.2269 - val_categorical_accuracy: 0.9193 - lr: 2.0000e-04\n",
      "Epoch 53/100\n",
      "131/131 [==============================] - ETA: 0s - loss: 0.0833 - categorical_accuracy: 0.9694 \n",
      "Epoch 53: val_categorical_accuracy did not improve from 0.96584\n",
      "131/131 [==============================] - 1878s 14s/step - loss: 0.0833 - categorical_accuracy: 0.9694 - val_loss: 0.1922 - val_categorical_accuracy: 0.9317 - lr: 2.0000e-04\n",
      "Epoch 54/100\n",
      "131/131 [==============================] - ETA: 0s - loss: 0.0864 - categorical_accuracy: 0.9723 \n",
      "Epoch 54: val_categorical_accuracy improved from 0.96584 to 0.96802, saving model to model5_weights.h5\n",
      "131/131 [==============================] - 1873s 14s/step - loss: 0.0864 - categorical_accuracy: 0.9723 - val_loss: 0.1074 - val_categorical_accuracy: 0.9680 - lr: 2.0000e-04\n",
      "Epoch 55/100\n",
      "131/131 [==============================] - ETA: 0s - loss: 0.0786 - categorical_accuracy: 0.9718 \n",
      "Epoch 55: val_categorical_accuracy did not improve from 0.96802\n",
      "131/131 [==============================] - 1894s 14s/step - loss: 0.0786 - categorical_accuracy: 0.9718 - val_loss: 0.1265 - val_categorical_accuracy: 0.9535 - lr: 2.0000e-04\n",
      "Epoch 56/100\n",
      "131/131 [==============================] - ETA: 0s - loss: 0.0847 - categorical_accuracy: 0.9718 \n",
      "Epoch 56: val_categorical_accuracy did not improve from 0.96802\n",
      "131/131 [==============================] - 1891s 14s/step - loss: 0.0847 - categorical_accuracy: 0.9718 - val_loss: 0.1967 - val_categorical_accuracy: 0.9295 - lr: 2.0000e-04\n",
      "Epoch 57/100\n",
      "131/131 [==============================] - ETA: 0s - loss: 0.0749 - categorical_accuracy: 0.9692 \n",
      "Epoch 57: val_categorical_accuracy did not improve from 0.96802\n",
      "131/131 [==============================] - 1893s 14s/step - loss: 0.0749 - categorical_accuracy: 0.9692 - val_loss: 0.2092 - val_categorical_accuracy: 0.9237 - lr: 2.0000e-04\n",
      "Epoch 58/100\n",
      "131/131 [==============================] - ETA: 0s - loss: 0.0778 - categorical_accuracy: 0.9737 \n",
      "Epoch 58: val_categorical_accuracy did not improve from 0.96802\n",
      "131/131 [==============================] - 1900s 15s/step - loss: 0.0778 - categorical_accuracy: 0.9737 - val_loss: 0.1267 - val_categorical_accuracy: 0.9586 - lr: 2.0000e-04\n",
      "Epoch 59/100\n",
      "131/131 [==============================] - ETA: 0s - loss: 0.0798 - categorical_accuracy: 0.9701 \n",
      "Epoch 59: val_categorical_accuracy did not improve from 0.96802\n",
      "131/131 [==============================] - 1890s 14s/step - loss: 0.0798 - categorical_accuracy: 0.9701 - val_loss: 0.1090 - val_categorical_accuracy: 0.9658 - lr: 2.0000e-04\n",
      "Epoch 60/100\n",
      "131/131 [==============================] - ETA: 0s - loss: 0.0706 - categorical_accuracy: 0.9763 \n",
      "Epoch 60: ReduceLROnPlateau reducing learning rate to 4.0000001899898055e-05.\n",
      "\n",
      "Epoch 60: val_categorical_accuracy did not improve from 0.96802\n",
      "131/131 [==============================] - 1883s 14s/step - loss: 0.0706 - categorical_accuracy: 0.9763 - val_loss: 0.1150 - val_categorical_accuracy: 0.9608 - lr: 2.0000e-04\n",
      "Epoch 61/100\n",
      "131/131 [==============================] - ETA: 0s - loss: 0.0713 - categorical_accuracy: 0.9754 \n",
      "Epoch 61: val_categorical_accuracy did not improve from 0.96802\n",
      "131/131 [==============================] - 1763s 13s/step - loss: 0.0713 - categorical_accuracy: 0.9754 - val_loss: 0.1302 - val_categorical_accuracy: 0.9586 - lr: 4.0000e-05\n",
      "Epoch 62/100\n",
      "131/131 [==============================] - ETA: 0s - loss: 0.0709 - categorical_accuracy: 0.9744 \n",
      "Epoch 62: val_categorical_accuracy did not improve from 0.96802\n",
      "131/131 [==============================] - 1854s 14s/step - loss: 0.0709 - categorical_accuracy: 0.9744 - val_loss: 0.1355 - val_categorical_accuracy: 0.9542 - lr: 4.0000e-05\n",
      "Epoch 63/100\n",
      "131/131 [==============================] - ETA: 0s - loss: 0.0667 - categorical_accuracy: 0.9782 \n",
      "Epoch 63: val_categorical_accuracy did not improve from 0.96802\n",
      "131/131 [==============================] - 1859s 14s/step - loss: 0.0667 - categorical_accuracy: 0.9782 - val_loss: 0.1624 - val_categorical_accuracy: 0.9397 - lr: 4.0000e-05\n",
      "Epoch 64/100\n",
      "131/131 [==============================] - ETA: 0s - loss: 0.0696 - categorical_accuracy: 0.9775 \n",
      "Epoch 64: val_categorical_accuracy did not improve from 0.96802\n",
      "131/131 [==============================] - 1900s 15s/step - loss: 0.0696 - categorical_accuracy: 0.9775 - val_loss: 0.1176 - val_categorical_accuracy: 0.9637 - lr: 4.0000e-05\n",
      "Epoch 65/100\n",
      "131/131 [==============================] - ETA: 0s - loss: 0.0679 - categorical_accuracy: 0.9770 \n",
      "Epoch 65: val_categorical_accuracy did not improve from 0.96802\n",
      "131/131 [==============================] - 1866s 14s/step - loss: 0.0679 - categorical_accuracy: 0.9770 - val_loss: 0.1194 - val_categorical_accuracy: 0.9615 - lr: 4.0000e-05\n",
      "Epoch 66/100\n",
      "131/131 [==============================] - ETA: 0s - loss: 0.0683 - categorical_accuracy: 0.9749 \n",
      "Epoch 66: ReduceLROnPlateau reducing learning rate to 8.000000525498762e-06.\n",
      "\n",
      "Epoch 66: val_categorical_accuracy did not improve from 0.96802\n",
      "131/131 [==============================] - 1701s 13s/step - loss: 0.0683 - categorical_accuracy: 0.9749 - val_loss: 0.1274 - val_categorical_accuracy: 0.9600 - lr: 4.0000e-05\n",
      "Epoch 67/100\n",
      "131/131 [==============================] - ETA: 0s - loss: 0.0717 - categorical_accuracy: 0.9747 \n",
      "Epoch 67: val_categorical_accuracy did not improve from 0.96802\n",
      "131/131 [==============================] - 1701s 13s/step - loss: 0.0717 - categorical_accuracy: 0.9747 - val_loss: 0.1247 - val_categorical_accuracy: 0.9593 - lr: 8.0000e-06\n",
      "Epoch 68/100\n",
      "131/131 [==============================] - ETA: 0s - loss: 0.0704 - categorical_accuracy: 0.9742 \n",
      "Epoch 68: val_categorical_accuracy did not improve from 0.96802\n",
      "131/131 [==============================] - 1701s 13s/step - loss: 0.0704 - categorical_accuracy: 0.9742 - val_loss: 0.1221 - val_categorical_accuracy: 0.9608 - lr: 8.0000e-06\n",
      "Epoch 69/100\n",
      "131/131 [==============================] - ETA: 0s - loss: 0.0681 - categorical_accuracy: 0.9778 \n",
      "Epoch 69: val_categorical_accuracy did not improve from 0.96802\n",
      "131/131 [==============================] - 1702s 13s/step - loss: 0.0681 - categorical_accuracy: 0.9778 - val_loss: 0.1231 - val_categorical_accuracy: 0.9608 - lr: 8.0000e-06\n",
      "Epoch 70/100\n",
      "131/131 [==============================] - ETA: 0s - loss: 0.0693 - categorical_accuracy: 0.9780 \n",
      "Epoch 70: val_categorical_accuracy did not improve from 0.96802\n",
      "131/131 [==============================] - 1702s 13s/step - loss: 0.0693 - categorical_accuracy: 0.9780 - val_loss: 0.1231 - val_categorical_accuracy: 0.9608 - lr: 8.0000e-06\n",
      "Epoch 71/100\n",
      "131/131 [==============================] - ETA: 0s - loss: 0.0755 - categorical_accuracy: 0.9739 \n",
      "Epoch 71: val_categorical_accuracy did not improve from 0.96802\n",
      "131/131 [==============================] - 1707s 13s/step - loss: 0.0755 - categorical_accuracy: 0.9739 - val_loss: 0.1171 - val_categorical_accuracy: 0.9637 - lr: 8.0000e-06\n",
      "Epoch 72/100\n",
      "131/131 [==============================] - ETA: 0s - loss: 0.0691 - categorical_accuracy: 0.9794 \n",
      "Epoch 72: ReduceLROnPlateau reducing learning rate to 1.6000001778593287e-06.\n",
      "\n",
      "Epoch 72: val_categorical_accuracy did not improve from 0.96802\n",
      "131/131 [==============================] - 1705s 13s/step - loss: 0.0691 - categorical_accuracy: 0.9794 - val_loss: 0.1207 - val_categorical_accuracy: 0.9629 - lr: 8.0000e-06\n",
      "Epoch 73/100\n",
      "131/131 [==============================] - ETA: 0s - loss: 0.0743 - categorical_accuracy: 0.9725 \n",
      "Epoch 73: val_categorical_accuracy did not improve from 0.96802\n",
      "131/131 [==============================] - 1704s 13s/step - loss: 0.0743 - categorical_accuracy: 0.9725 - val_loss: 0.1200 - val_categorical_accuracy: 0.9622 - lr: 1.6000e-06\n",
      "Epoch 74/100\n",
      "131/131 [==============================] - ETA: 0s - loss: 0.0726 - categorical_accuracy: 0.9778 \n",
      "Epoch 74: val_categorical_accuracy did not improve from 0.96802\n",
      "131/131 [==============================] - 1702s 13s/step - loss: 0.0726 - categorical_accuracy: 0.9778 - val_loss: 0.1207 - val_categorical_accuracy: 0.9629 - lr: 1.6000e-06\n",
      "Epoch 75/100\n",
      "131/131 [==============================] - ETA: 0s - loss: 0.0697 - categorical_accuracy: 0.9773 \n",
      "Epoch 75: val_categorical_accuracy did not improve from 0.96802\n",
      "131/131 [==============================] - 1702s 13s/step - loss: 0.0697 - categorical_accuracy: 0.9773 - val_loss: 0.1210 - val_categorical_accuracy: 0.9622 - lr: 1.6000e-06\n",
      "Epoch 75: early stopping\n"
     ]
    }
   ],
   "source": [
    "model5_es = EarlyStopping(monitor = 'loss', min_delta = 1e-11, patience = 12, verbose = 1)\n",
    "model5_rlr = ReduceLROnPlateau(monitor = 'val_loss', factor = 0.2, patience = 6, verbose = 1)\n",
    "model5_mcp = ModelCheckpoint(filepath = 'model5_weights.h5', monitor = 'val_categorical_accuracy', \n",
    "                      save_best_only = True, verbose = 1)\n",
    "\n",
    "history5 = model5.fit(training_set, steps_per_epoch=4215//32, epochs=100, validation_data=validation_set, validation_steps= 1405//32,\n",
    "                     callbacks=[model5_es, model5_rlr, model5_mcp])"
   ]
  },
  {
   "cell_type": "code",
   "execution_count": 18,
   "metadata": {},
   "outputs": [
    {
     "name": "stdout",
     "output_type": "stream",
     "text": [
      "1406/1406 [==============================] - 309s 220ms/step - loss: 0.1012 - categorical_accuracy: 0.9666\n"
     ]
    },
    {
     "data": {
      "text/plain": [
       "[0.10117150098085403, 0.9665718078613281]"
      ]
     },
     "execution_count": 18,
     "metadata": {},
     "output_type": "execute_result"
    }
   ],
   "source": [
    "model5.evaluate(test_set)"
   ]
  },
  {
   "cell_type": "code",
   "execution_count": 20,
   "metadata": {},
   "outputs": [
    {
     "data": {
      "image/png": "[encoded data removed]",
      "text/plain": [
       "<Figure size 432x288 with 1 Axes>"
      ]
     },
     "metadata": {
      "needs_background": "light"
     },
     "output_type": "display_data"
    }
   ],
   "source": [
    "# comparing the training and testing accuracy\n",
    "plt.plot(history5.history['categorical_accuracy'])\n",
    "plt.plot(history5.history['val_categorical_accuracy'])\n",
    "plt.title('Accuracy of the model')\n",
    "plt.xlabel('Epochs')\n",
    "plt.ylabel('Accuracy')\n",
    "plt.legend(['train','test'],loc='upper left')\n",
    "plt.show()"
   ]
  },
  {
   "cell_type": "code",
   "execution_count": 17,
   "metadata": {},
   "outputs": [],
   "source": [
    "def plot_confusion_matrix(true_lab,predict_lab,classes,path):\n",
    "  matrix_confusion = tf.math.confusion_matrix(labels=true_lab, predictions=predicted_lab, num_classes=len(classes))\n",
    "  ax = plt.subplot()\n",
    "  sns.heatmap(matrix_confusion, square=True, annot=True, cmap='Blues', fmt='d', cbar=True)\n",
    "  ax.set_xlabel('Predicted labels')\n",
    "  ax.set_ylabel('True labels')\n",
    "  ax.set_title('Confusion Matrix')\n",
    "  ax.xaxis.set_ticklabels(classes)\n",
    "  ax.yaxis.set_ticklabels(classes)\n",
    "  plt.savefig(f'{path}confusion_matrix.png')"
   ]
  },
  {
   "cell_type": "code",
   "execution_count": 18,
   "metadata": {},
   "outputs": [],
   "source": [
    "def dump_text(text,path):\n",
    "  text_file = open(path, \"w\")\n",
    "  text_file.write(text)\n",
    "  text_file.close()"
   ]
  },
  {
   "cell_type": "code",
   "execution_count": 19,
   "metadata": {},
   "outputs": [],
   "source": [
    "savepath = '/home/noor/Documents/new/'"
   ]
  },
  {
   "cell_type": "code",
   "execution_count": 24,
   "metadata": {},
   "outputs": [
    {
     "name": "stdout",
     "output_type": "stream",
     "text": [
      "1406/1406 [==============================] - 311s 221ms/step\n",
      "              precision    recall  f1-score   support\n",
      "\n",
      "      glioma       0.97      0.96      0.96       294\n",
      "  meningioma       0.96      0.93      0.95       358\n",
      "     notumor       0.98      0.99      0.99       397\n",
      "   pituitary       0.96      0.98      0.97       357\n",
      "\n",
      "    accuracy                           0.97      1406\n",
      "   macro avg       0.97      0.97      0.97      1406\n",
      "weighted avg       0.97      0.97      0.97      1406\n",
      "\n"
     ]
    },
    {
     "data": {
      "image/png": "[encoded data removed]",
      "text/plain": [
       "<Figure size 432x288 with 2 Axes>"
      ]
     },
     "metadata": {
      "needs_background": "light"
     },
     "output_type": "display_data"
    }
   ],
   "source": [
    "p = model5.predict(test_set)\n",
    "predicted_lab = p.argmax(axis=-1)\n",
    "true_lab = test_set.classes\n",
    "plot_confusion_matrix(true_lab, predicted_lab, test_set.class_indices.keys(),savepath)\n",
    "report = classification_report(true_lab, predicted_lab, target_names=test_set.class_indices.keys())\n",
    "print(report)\n",
    "dump_text(report,f'{savepath}classification_report.txt')"
   ]
  },
  {
   "cell_type": "code",
   "execution_count": 24,
   "metadata": {},
   "outputs": [],
   "source": [
    "model6 = Sequential()\n",
    "\n",
    "# Convolutional layer 1\n",
    "model6.add(Conv2D(64,(7,7), input_shape=(224, 224, 3), padding='same', activation='relu'))\n",
    "model6.add(BatchNormalization())\n",
    "model6.add(MaxPooling2D(pool_size=(2,2)))\n",
    "\n",
    "#Convolutional layer 2\n",
    "model6.add(Conv2D(128,(7,7), padding='same', activation='relu'))\n",
    "model6.add(BatchNormalization())\n",
    "model6.add(MaxPooling2D(pool_size=(2,2)))\n",
    "\n",
    "# Convolutional layer 3\n",
    "model6.add(Conv2D(128,(7,7), padding='same', activation='relu'))\n",
    "model6.add(BatchNormalization())\n",
    "model6.add(MaxPooling2D(pool_size=(2,2)))\n",
    "\n",
    "# Convolutional layer 4\n",
    "model6.add(Conv2D(256,(7,7), padding='same', activation='relu'))\n",
    "model6.add(BatchNormalization())\n",
    "model6.add(MaxPooling2D(pool_size=(2,2)))\n",
    "\n",
    " # Convolutional layer 5\n",
    "model6.add(Conv2D(256,(7,7), padding='same', activation='relu'))\n",
    "model6.add(BatchNormalization())\n",
    "model6.add(MaxPooling2D(pool_size=(2,2)))\n",
    "\n",
    "# Convolutional layer 6\n",
    "model6.add(Conv2D(512,(7,7), padding='same', activation='relu'))\n",
    "model6.add(BatchNormalization())\n",
    "model6.add(MaxPooling2D(pool_size=(2,2)))\n",
    "\n",
    "model6.add(Flatten())\n",
    "\n",
    "# Full connect layers\n",
    "\n",
    "model6.add(Dense(units= 1024, activation='relu'))\n",
    "model6.add(Dropout(0.25))\n",
    "model6.add(Dense(units=1024, activation='relu'))\n",
    "model6.add(Dropout(0.25))\n",
    "model6.add(Dense(units=512, activation='relu'))\n",
    "model6.add(Dropout(0.2))\n",
    "model6.add(Dense(units=4, activation='softmax'))\n",
    "\n",
    "\n",
    "\n",
    "model6.compile(optimizer=Adam(learning_rate=0.001), loss='categorical_crossentropy',\n",
    "                   metrics= ['categorical_accuracy'])"
   ]
  },
  {
   "cell_type": "code",
   "execution_count": 25,
   "metadata": {},
   "outputs": [
    {
     "name": "stdout",
     "output_type": "stream",
     "text": [
      "Epoch 1/100\n",
      "131/131 [==============================] - ETA: 0s - loss: 1.7053 - categorical_accuracy: 0.4552 "
     ]
    }
   ],
   "source": [
    "model6_es = EarlyStopping(monitor = 'loss', min_delta = 1e-11, patience = 12, verbose = 1)\n",
    "model6_rlr = ReduceLROnPlateau(monitor = 'val_loss', factor = 0.2, patience = 6, verbose = 1)\n",
    "model6_mcp = ModelCheckpoint(filepath = 'model6_weights.h5', monitor = 'val_categorical_accuracy', \n",
    "                      save_best_only = True, verbose = 1)\n",
    "\n",
    "history6 = model6.fit(training_set, steps_per_epoch=4215//32, epochs=100, validation_data=validation_set, validation_steps= 1405//32,\n",
    "                     callbacks=[model6_es, model6_rlr, model6_mcp])"
   ]
  }
 ],
 "metadata": {
  "kernelspec": {
   "display_name": "Python 3.10.4 64-bit",
   "language": "python",
   "name": "python3"
  },
  "language_info": {
   "codemirror_mode": {
    "name": "ipython",
    "version": 3
   },
   "file_extension": ".py",
   "mimetype": "text/x-python",
   "name": "python",
   "nbconvert_exporter": "python",
   "pygments_lexer": "ipython3",
   "version": "3.10.4"
  },
  "orig_nbformat": 4,
  "vscode": {
   "interpreter": {
    "hash": "916dbcbb3f70747c44a77c7bcd40155683ae19c65e1c03b4aa3499c5328201f1"
   }
  }
 },
 "nbformat": 4,
 "nbformat_minor": 2
}
