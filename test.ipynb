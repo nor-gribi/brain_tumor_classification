{
  "cells": [
    {
      "cell_type": "markdown",
      "metadata": {
        "id": "ktsE8Ga0z6VW"
      },
      "source": [
        "# *Importing libraries*"
      ]
    },
    {
      "cell_type": "code",
      "execution_count": 2,
      "metadata": {
        "id": "LVtgV7OQz4mi"
      },
      "outputs": [],
      "source": [
        "import os\n",
        "import shutil \n",
        "import glob\n",
        "import numpy as np\n",
        "import pandas as pd\n",
        "import seaborn as sns\n",
        "import matplotlib.pyplot as plt\n",
        "from skimage.io import imread, imsave\n",
        "from sklearn.model_selection import train_test_split\n",
        "import tensorflow as tf\n",
        "from tensorflow.keras.utils import plot_model\n",
        "from tensorflow.keras.preprocessing.image import ImageDataGenerator\n",
        "from tensorflow.keras.models import save_model, load_model, Model\n",
        "from tensorflow.keras.layers import Input, InputLayer, Dropout, Flatten, Dense, Activation, MaxPool2D, Conv2D\n",
        "from sklearn.metrics import classification_report\n",
        "#from keras.utils import to_categorical\n",
        "from tensorflow.keras.layers import BatchNormalization\n",
        "from tensorflow.keras.optimizers import Adam\n",
        "from keras.callbacks import ModelCheckpoint, EarlyStopping\n",
        "import imutils\n",
        "from keras.models import Sequential\n",
        "import cv2 as cv2"
      ]
    },
    {
      "cell_type": "markdown",
      "metadata": {
        "id": "Qg5AQ1wM0qXU"
      },
      "source": [
        "# *Working with data*"
      ]
    },
    {
      "cell_type": "markdown",
      "metadata": {
        "id": "9MWWmMfX1CFG"
      },
      "source": [
        "Moving images from folders to bigger folder combined"
      ]
    },
    {
      "cell_type": "code",
      "execution_count": 3,
      "metadata": {
        "id": "AEyluzQB1BwW"
      },
      "outputs": [],
      "source": [
        "classes = ['glioma', 'meningioma', 'notumor', 'pituitary']\n",
        "data_co = {}\n",
        "main_path = '/home/noor/Documents/new_test/data/'\n",
        "for path in os.listdir(main_path):\n",
        "  for img in os.listdir(f'{main_path}{path}'):\n",
        "    data_co[img] = path\n",
        "    shutil.move(f'{main_path}{path}/{img}', main_path)"
      ]
    },
    {
      "cell_type": "markdown",
      "metadata": {
        "id": "NHQ3jWTq1sRI"
      },
      "source": [
        "Removing folders "
      ]
    },
    {
      "cell_type": "code",
      "execution_count": 4,
      "metadata": {
        "id": "05pibRwA1q2L"
      },
      "outputs": [],
      "source": [
        "!rm -d '/home/noor/Documents/new_test/data/glioma'\n",
        "!rm -d '/home/noor/Documents/new_test/data/meningioma'\n",
        "!rm -d '/home/noor/Documents/new_test/data/notumor'\n",
        "!rm -d '/home/noor/Documents/new_test/data/pituitary'"
      ]
    },
    {
      "cell_type": "code",
      "execution_count": 5,
      "metadata": {
        "colab": {
          "base_uri": "https://localhost:8080/"
        },
        "id": "aLNoJmKU2CvX",
        "outputId": "ce812676-9ce9-4da4-8f2f-75c658c23088"
      },
      "outputs": [
        {
          "data": {
            "text/plain": [
              "notumor       2000\n",
              "pituitary     1757\n",
              "meningioma    1645\n",
              "glioma        1624\n",
              "Name: class, dtype: int64"
            ]
          },
          "execution_count": 5,
          "metadata": {},
          "output_type": "execute_result"
        }
      ],
      "source": [
        "x = pd.DataFrame(data_co.items(), columns = ['image_id', 'class'])\n",
        "x['class'].value_counts()"
      ]
    },
    {
      "cell_type": "markdown",
      "metadata": {
        "id": "eEewz7Th2SVu"
      },
      "source": [
        "function to crop images"
      ]
    },
    {
      "cell_type": "code",
      "execution_count": 6,
      "metadata": {
        "id": "5fhuOWx_2RY0"
      },
      "outputs": [],
      "source": [
        "def crop_margins(path):\n",
        "  img = imread(path)\n",
        "  img = cv2.cvtColor(img, cv2.COLOR_BGR2RGB)\n",
        "  gray = cv2.cvtColor(img, cv2.COLOR_RGB2GRAY)\n",
        "  _,binary = cv2.threshold(gray, 20, 255, cv2.THRESH_BINARY)\n",
        "\n",
        "  # find contours from thresholded image\n",
        "  contours, hierarchy = cv2.findContours(binary, cv2.RETR_TREE, cv2.CHAIN_APPROX_SIMPLE)\n",
        "  items = cv2.findContours(binary.copy(), cv2.RETR_TREE, cv2.CHAIN_APPROX_SIMPLE)\n",
        "  contours = imutils.grab_contours(items)\n",
        "  c = max(contours, key =cv2.contourArea)\n",
        "  extLeft = tuple(c[c[:, :, 0].argmin()][0])\n",
        "  extRight = tuple(c[c[:, :, 0].argmax()][0])\n",
        "  extTop = tuple(c[c[:, :, 1].argmin()][0])\n",
        "  extBot = tuple(c[c[:, :, 1].argmax()][0])\n",
        "  ADD_PIXELS = 0 \n",
        "  new_img = img[extTop[1]-ADD_PIXELS:extBot[1]+ADD_PIXELS,extLeft[0]-ADD_PIXELS:extRight[0]+ADD_PIXELS].copy()\n",
        "  \n",
        "  # image resizing\n",
        "  IMG_SIZE = 224\n",
        "  new_img = cv2.resize(new_img,(IMG_SIZE,IMG_SIZE))\n",
        "  return new_img\n"
      ]
    },
    {
      "cell_type": "markdown",
      "metadata": {
        "id": "00ie2b-F4J7c"
      },
      "source": [
        "Applying cropping and resizing function on dataset"
      ]
    },
    {
      "cell_type": "code",
      "execution_count": 7,
      "metadata": {
        "id": "9ML8Zbb64NHv"
      },
      "outputs": [],
      "source": [
        "save_path = '/home/noor/Documents/new_test/dataset'\n",
        "in_path = os.path.join('/home/noor/Documents/new_test/data/')\n",
        "\n",
        "if not os.path.isdir(save_path):\n",
        "  os.makedirs(save_path)\n",
        "\n",
        "for img in os.listdir(in_path):\n",
        "  imsave(f'{save_path}/{img}', crop_margins(f'{in_path}/{img}'))"
      ]
    },
    {
      "cell_type": "markdown",
      "metadata": {
        "id": "w5-lq13M5Ctw"
      },
      "source": [
        "Creating new sub folders "
      ]
    },
    {
      "cell_type": "code",
      "execution_count": 8,
      "metadata": {
        "id": "4WThArip5EyP"
      },
      "outputs": [],
      "source": [
        "subfiles = ['/testing/glioma/' , '/testing/meningioma/' , '/testing/notumor/' ,\n",
        "'/testing/pituitary/','/training/glioma/' , '/training/meningioma/' , '/training/notumor/' , '/training/pituitary/', '/validation/glioma/',\n",
        "'/validation/meningioma/', '/validation/notumor/', '/validation/pituitary/']\n",
        "\n",
        "for path in subfiles:\n",
        "  if not os.path.isdir(f'{save_path}/{path}'):\n",
        "    os.makedirs(f'{save_path}/{path}')"
      ]
    },
    {
      "cell_type": "code",
      "execution_count": 9,
      "metadata": {
        "colab": {
          "base_uri": "https://localhost:8080/",
          "height": 206
        },
        "id": "IIlWjwYe5YS_",
        "outputId": "af4a66f2-0497-4c2b-a709-8efde7b24954"
      },
      "outputs": [
        {
          "data": {
            "text/html": [
              "<div>\n",
              "<style scoped>\n",
              "    .dataframe tbody tr th:only-of-type {\n",
              "        vertical-align: middle;\n",
              "    }\n",
              "\n",
              "    .dataframe tbody tr th {\n",
              "        vertical-align: top;\n",
              "    }\n",
              "\n",
              "    .dataframe thead th {\n",
              "        text-align: right;\n",
              "    }\n",
              "</style>\n",
              "<table border=\"1\" class=\"dataframe\">\n",
              "  <thead>\n",
              "    <tr style=\"text-align: right;\">\n",
              "      <th></th>\n",
              "      <th>image_id</th>\n",
              "      <th>class</th>\n",
              "    </tr>\n",
              "  </thead>\n",
              "  <tbody>\n",
              "    <tr>\n",
              "      <th>0</th>\n",
              "      <td>Tr-me_0274.jpg</td>\n",
              "      <td>meningioma</td>\n",
              "    </tr>\n",
              "    <tr>\n",
              "      <th>1</th>\n",
              "      <td>Tr-me_0858.jpg</td>\n",
              "      <td>meningioma</td>\n",
              "    </tr>\n",
              "    <tr>\n",
              "      <th>2</th>\n",
              "      <td>Tr-me_1037.jpg</td>\n",
              "      <td>meningioma</td>\n",
              "    </tr>\n",
              "    <tr>\n",
              "      <th>3</th>\n",
              "      <td>Tr-me_0821.jpg</td>\n",
              "      <td>meningioma</td>\n",
              "    </tr>\n",
              "    <tr>\n",
              "      <th>4</th>\n",
              "      <td>Tr-me_0308.jpg</td>\n",
              "      <td>meningioma</td>\n",
              "    </tr>\n",
              "  </tbody>\n",
              "</table>\n",
              "</div>"
            ],
            "text/plain": [
              "         image_id       class\n",
              "0  Tr-me_0274.jpg  meningioma\n",
              "1  Tr-me_0858.jpg  meningioma\n",
              "2  Tr-me_1037.jpg  meningioma\n",
              "3  Tr-me_0821.jpg  meningioma\n",
              "4  Tr-me_0308.jpg  meningioma"
            ]
          },
          "execution_count": 9,
          "metadata": {},
          "output_type": "execute_result"
        }
      ],
      "source": [
        "x.head()"
      ]
    },
    {
      "cell_type": "markdown",
      "metadata": {
        "id": "gXnKLhRD5aiR"
      },
      "source": [
        "Splitting into training , validation and testing"
      ]
    },
    {
      "cell_type": "code",
      "execution_count": 10,
      "metadata": {
        "id": "CR0hwFbj5deD"
      },
      "outputs": [],
      "source": [
        "# training and testing set --> setting aside 20% of test , 80% of train \n",
        "\n",
        "x_train, x_test, y_train, y_test = train_test_split(x[['image_id']].values, x[['class']].values, test_size = 0.2, random_state = 8)\n",
        "\n",
        "# using same function above to split the validation set (0.25*0.8=0.2)\n",
        "\n",
        "x_train, x_val, y_train, y_val = train_test_split(x_train, y_train, test_size = 0.25, random_state=8)"
      ]
    },
    {
      "cell_type": "code",
      "execution_count": 11,
      "metadata": {
        "id": "lJ0bitHvLHsg"
      },
      "outputs": [],
      "source": [
        "training = x_train.flatten().tolist()\n",
        "validation = x_val.flatten().tolist()\n",
        "testing = x_test.flatten().tolist()\n",
        "\n",
        "x.loc[x['image_id'].isin(training)].to_csv('training.csv', index=False, encoding='utf-8-sig')\n",
        "x.loc[x['image_id'].isin(validation)].to_csv('validation.csv', index=False, encoding='utf-8-sig')\n",
        "x.loc[x['image_id'].isin(testing)].to_csv('testing.csv', index=False, encoding='utf-8-sig')\n"
      ]
    },
    {
      "cell_type": "code",
      "execution_count": 12,
      "metadata": {
        "id": "XA8y4fxqLW1P"
      },
      "outputs": [],
      "source": [
        "testing = pd.read_csv('./testing.csv')\n",
        "validation = pd.read_csv('./validation.csv')\n",
        "training = pd.read_csv('./training.csv')"
      ]
    },
    {
      "cell_type": "markdown",
      "metadata": {
        "id": "V-QhJfxVLapt"
      },
      "source": [
        "copying images into their subfolders "
      ]
    },
    {
      "cell_type": "code",
      "execution_count": 13,
      "metadata": {
        "id": "KnqmxhsOLeA1"
      },
      "outputs": [],
      "source": [
        "import shutil\n",
        "main_path = '/home/noor/Documents/new_test/dataset'\n",
        "for indx, row in training.iterrows():\n",
        "    shutil.move(f\"{main_path}/{row['image_id']}\",f\"{main_path}/training/{row['class']}/{row['image_id']}\")\n",
        "\n",
        "for indx, row in validation.iterrows():\n",
        "    shutil.move(f\"{main_path}/{row['image_id']}\",f\"{main_path}/validation/{row['class']}/{row['image_id']}\")\n",
        "\n",
        "\n",
        "for indx,row in testing.iterrows():\n",
        "    shutil.move(f\"{main_path}/{row['image_id']}\",f\"{main_path}/testing/{row['class']}/{row['image_id']}\") "
      ]
    },
    {
      "cell_type": "code",
      "execution_count": 14,
      "metadata": {
        "colab": {
          "base_uri": "https://localhost:8080/"
        },
        "id": "Tj6aZ-y5oIaP",
        "outputId": "83c3cc9d-9fe5-49ad-cf8c-292055493017"
      },
      "outputs": [
        {
          "data": {
            "text/plain": [
              "(4215, 1)"
            ]
          },
          "execution_count": 14,
          "metadata": {},
          "output_type": "execute_result"
        }
      ],
      "source": [
        "x_train.shape # 60%"
      ]
    },
    {
      "cell_type": "code",
      "execution_count": 15,
      "metadata": {
        "colab": {
          "base_uri": "https://localhost:8080/"
        },
        "id": "GbSdeOPUoK2f",
        "outputId": "d2a46705-19f6-4e09-9143-e52ffd8ac50b"
      },
      "outputs": [
        {
          "data": {
            "text/plain": [
              "(1405, 1)"
            ]
          },
          "execution_count": 15,
          "metadata": {},
          "output_type": "execute_result"
        }
      ],
      "source": [
        "x_val.shape # 20%"
      ]
    },
    {
      "cell_type": "code",
      "execution_count": 16,
      "metadata": {
        "colab": {
          "base_uri": "https://localhost:8080/"
        },
        "id": "De66y9n2oONn",
        "outputId": "fda43ca7-ddcc-405e-bdf9-e9d14a1d4ca5"
      },
      "outputs": [
        {
          "data": {
            "text/plain": [
              "(1406, 1)"
            ]
          },
          "execution_count": 16,
          "metadata": {},
          "output_type": "execute_result"
        }
      ],
      "source": [
        "x_test.shape # 20%"
      ]
    },
    {
      "cell_type": "markdown",
      "metadata": {
        "id": "n4SzovP5LoUl"
      },
      "source": [
        "# CNN Model "
      ]
    },
    {
      "cell_type": "code",
      "execution_count": 17,
      "metadata": {
        "id": "2XPY-k5QLq8t"
      },
      "outputs": [],
      "source": [
        "# Model architecture"
      ]
    },
    {
      "cell_type": "code",
      "execution_count": 18,
      "metadata": {
        "id": "zzb7Aj-gLvFg"
      },
      "outputs": [],
      "source": [
        "image_shape = (224, 224, 3)\n"
      ]
    },
    {
      "cell_type": "code",
      "execution_count": 19,
      "metadata": {
        "id": "9Hpt2Iwzgmx7"
      },
      "outputs": [
        {
          "name": "stderr",
          "output_type": "stream",
          "text": [
            "2022-08-06 17:36:24.692378: W tensorflow/stream_executor/platform/default/dso_loader.cc:64] Could not load dynamic library 'libcuda.so.1'; dlerror: libcuda.so.1: cannot open shared object file: No such file or directory; LD_LIBRARY_PATH: /home/noor/.local/lib/python3.10/site-packages/cv2/../../lib64:\n",
            "2022-08-06 17:36:24.692417: W tensorflow/stream_executor/cuda/cuda_driver.cc:269] failed call to cuInit: UNKNOWN ERROR (303)\n",
            "2022-08-06 17:36:24.692439: I tensorflow/stream_executor/cuda/cuda_diagnostics.cc:156] kernel driver does not appear to be running on this host (noor): /proc/driver/nvidia/version does not exist\n",
            "2022-08-06 17:36:24.692827: I tensorflow/core/platform/cpu_feature_guard.cc:193] This TensorFlow binary is optimized with oneAPI Deep Neural Network Library (oneDNN) to use the following CPU instructions in performance-critical operations:  AVX2 AVX512F AVX512_VNNI FMA\n",
            "To enable them in other operations, rebuild TensorFlow with the appropriate compiler flags.\n"
          ]
        }
      ],
      "source": [
        "# Model architecture NUMBER 1 \n",
        "\n",
        "model = Sequential()\n",
        "\n",
        "model.add(Conv2D(filters=32, kernel_size=(3,3), activation='relu', input_shape=(224,224,3)))\n",
        "model.add(BatchNormalization())\n",
        "model.add(MaxPool2D(pool_size=(2,2)))\n",
        "model.add(Dropout(rate=0.2))\n",
        "\n",
        "model.add(Conv2D(filters=64, kernel_size=(3,3), activation='relu'))\n",
        "model.add(BatchNormalization())\n",
        "model.add(MaxPool2D(pool_size=(2,2)))\n",
        "model.add(Dropout(rate=0.2))\n",
        "\n",
        "model.add(Conv2D(128,kernel_size=(3,3), activation='relu'))\n",
        "model.add(BatchNormalization())\n",
        "model.add(MaxPool2D(pool_size=(2,2)))\n",
        "model.add(Dropout(rate=0.2))\n",
        "\n",
        "model.add(Conv2D(64,kernel_size=(3,3), activation='relu'))\n",
        "model.add(BatchNormalization())\n",
        "model.add(MaxPool2D(pool_size=(2,2)))\n",
        "model.add(Dropout(rate=0.2))\n",
        "\n",
        "model.add(Conv2D(32,kernel_size=(3,3), activation='relu'))\n",
        "model.add(BatchNormalization())\n",
        "model.add(MaxPool2D(pool_size=(2,2)))\n",
        "model.add(Dropout(rate=0.2))\n",
        "\n",
        "model.add(Flatten())\n",
        "model.add(Dense(512, activation='relu'))\n",
        "model.add(Dropout(rate=0.2))\n",
        "model.add(Dense(512, activation='relu'))\n",
        "model.add(Dropout(rate=0.2))\n",
        "\n",
        "model.add(Dense(4, activation='softmax'))\n"
      ]
    },
    {
      "cell_type": "code",
      "execution_count": 33,
      "metadata": {},
      "outputs": [],
      "source": [
        "# Model architecture NUMBER 2\n",
        "\n",
        "model2 = Sequential()\n",
        "\n",
        "model2.add(Conv2D(filters=32, kernel_size=(3,3), activation='relu', input_shape=(224,224,3)))\n",
        "model2.add(BatchNormalization())\n",
        "model2.add(MaxPool2D(pool_size=(2,2)))\n",
        "\n",
        "\n",
        "model2.add(Conv2D(filters=64, kernel_size=(3,3), activation='relu'))\n",
        "model2.add(BatchNormalization())\n",
        "model2.add(MaxPool2D(pool_size=(2,2)))\n",
        "\n",
        "\n",
        "model2.add(Conv2D(128,kernel_size=(3,3), activation='relu'))\n",
        "model2.add(BatchNormalization())\n",
        "model2.add(MaxPool2D(pool_size=(2,2)))\n",
        "model2.add(Dropout(rate=0.2))\n",
        "\n",
        "model2.add(Conv2D(64,kernel_size=(3,3), activation='relu'))\n",
        "model2.add(BatchNormalization())\n",
        "model2.add(MaxPool2D(pool_size=(2,2)))\n",
        "\n",
        "model2.add(Conv2D(32,kernel_size=(3,3), activation='relu'))\n",
        "model2.add(BatchNormalization())\n",
        "model2.add(MaxPool2D(pool_size=(2,2)))\n",
        "\n",
        "\n",
        "model2.add(Flatten())\n",
        "model2.add(Dense(512, activation='relu'))\n",
        "model2.add(Dropout(rate=0.2))\n",
        "model2.add(Dense(512, activation='relu'))\n",
        "model2.add(Dropout(rate=0.2))\n",
        "\n",
        "model2.add(Dense(4, activation='softmax'))"
      ]
    },
    {
      "cell_type": "code",
      "execution_count": 51,
      "metadata": {},
      "outputs": [],
      "source": [
        "# Model architecture NUMBER 3\n",
        "\n",
        "model3 = Sequential()\n",
        "\n",
        "model3.add(Conv2D(filters=128, kernel_size=(3,3), activation='relu', input_shape=(224,224,3)))\n",
        "model3.add(BatchNormalization())\n",
        "model3.add(MaxPool2D(pool_size=(2,2)))\n",
        "\n",
        "\n",
        "model3.add(Conv2D(filters=64, kernel_size=(3,3), activation='relu'))\n",
        "model3.add(BatchNormalization())\n",
        "model3.add(MaxPool2D(pool_size=(2,2)))\n",
        "\n",
        "\n",
        "model3.add(Conv2D(32,kernel_size=(3,3), activation='relu'))\n",
        "model3.add(BatchNormalization())\n",
        "model3.add(MaxPool2D(pool_size=(2,2)))\n",
        "\n",
        "\n",
        "\n",
        "\n",
        "model3.add(Flatten())\n",
        "model3.add(Dense(512, activation='relu'))\n",
        "model3.add(Dropout(rate=0.2))\n",
        "model3.add(Dense(512, activation='relu'))\n",
        "model3.add(Dropout(rate=0.2))\n",
        "\n",
        "model3.add(Dense(4, activation='softmax'))"
      ]
    },
    {
      "cell_type": "code",
      "execution_count": 20,
      "metadata": {
        "id": "ZCi-kFGWjhkR"
      },
      "outputs": [],
      "source": [
        "train_data = ImageDataGenerator(rescale=1./255,\n",
        "                                    shear_range=0.2,\n",
        "                                    rotation_range=2,\n",
        "                                    zoom_range=0.2,\n",
        "                                    horizontal_flip=True,\n",
        "                                    vertical_flip=True)"
      ]
    },
    {
      "cell_type": "code",
      "execution_count": 21,
      "metadata": {
        "colab": {
          "base_uri": "https://localhost:8080/"
        },
        "id": "Kpvf3HjP1EJW",
        "outputId": "02b25e09-3682-4339-ac2e-7ca04e4045c4"
      },
      "outputs": [
        {
          "name": "stdout",
          "output_type": "stream",
          "text": [
            "Found 4215 images belonging to 4 classes.\n"
          ]
        }
      ],
      "source": [
        "training_set = train_data.flow_from_directory(directory=\"/home/noor/Documents/new_test/dataset/training\",\n",
        "                                                  target_size=(224,224),\n",
        "                                                  class_mode='categorical',\n",
        "                                                  batch_size=32)"
      ]
    },
    {
      "cell_type": "code",
      "execution_count": 22,
      "metadata": {
        "id": "vYIMr0fK1VMI"
      },
      "outputs": [],
      "source": [
        "validation_data = ImageDataGenerator(rescale=1./255)"
      ]
    },
    {
      "cell_type": "code",
      "execution_count": 23,
      "metadata": {
        "colab": {
          "base_uri": "https://localhost:8080/"
        },
        "id": "UKf9HvEd1dyH",
        "outputId": "07456770-2cd1-418a-fde8-2499f4e24c08"
      },
      "outputs": [
        {
          "name": "stdout",
          "output_type": "stream",
          "text": [
            "Found 1405 images belonging to 4 classes.\n"
          ]
        }
      ],
      "source": [
        "validation_set = validation_data.flow_from_directory(directory=\"/home/noor/Documents/new_test/dataset/validation\",\n",
        "                                                        target_size=(224,224),\n",
        "                                                        class_mode='categorical',\n",
        "                                                        batch_size=1,\n",
        "                                                        shuffle = False)"
      ]
    },
    {
      "cell_type": "code",
      "execution_count": 37,
      "metadata": {},
      "outputs": [
        {
          "name": "stdout",
          "output_type": "stream",
          "text": [
            "Found 1406 images belonging to 4 classes.\n"
          ]
        }
      ],
      "source": [
        "test_set = validation_data.flow_from_directory(directory=\"/home/noor/Documents/new_test/dataset/testing\",\n",
        "                                                        target_size=(224,224),\n",
        "                                                        class_mode='categorical',\n",
        "                                                        batch_size=1,\n",
        "                                                        shuffle = False)"
      ]
    },
    {
      "cell_type": "code",
      "execution_count": 24,
      "metadata": {
        "id": "xVnmCZh93h6o"
      },
      "outputs": [],
      "source": [
        "opt = tf.keras.optimizers.Adam(learning_rate=0.001)"
      ]
    },
    {
      "cell_type": "code",
      "execution_count": 34,
      "metadata": {
        "id": "fWMgwfqZ3K6b"
      },
      "outputs": [],
      "source": [
        "model.compile(loss='categorical_crossentropy', metrics=['accuracy'], optimizer=opt)\n"
      ]
    },
    {
      "cell_type": "code",
      "execution_count": 26,
      "metadata": {
        "id": "KSLmryza4x2p"
      },
      "outputs": [],
      "source": [
        "early = EarlyStopping(monitor = 'val_loss',\n",
        "                      min_delta = 0,\n",
        "                      patience = 8,\n",
        "                      verbose = 1,\n",
        "                      mode = 'auto')"
      ]
    },
    {
      "cell_type": "code",
      "execution_count": 28,
      "metadata": {
        "colab": {
          "base_uri": "https://localhost:8080/",
          "height": 165
        },
        "id": "_3SpD_gi3cMj",
        "outputId": "b824af04-1410-48b4-f0f4-d2b85bb2dc41"
      },
      "outputs": [
        {
          "name": "stdout",
          "output_type": "stream",
          "text": [
            "Epoch 1/50\n",
            "132/132 [==============================] - 104s 787ms/step - loss: 0.1168 - accuracy: 0.9590 - val_loss: 0.3161 - val_accuracy: 0.9096\n",
            "Epoch 2/50\n",
            "132/132 [==============================] - 108s 819ms/step - loss: 0.1111 - accuracy: 0.9585 - val_loss: 0.3540 - val_accuracy: 0.8975\n",
            "Epoch 3/50\n",
            "132/132 [==============================] - 114s 860ms/step - loss: 0.1050 - accuracy: 0.9601 - val_loss: 0.1565 - val_accuracy: 0.9559\n",
            "Epoch 4/50\n",
            "132/132 [==============================] - 121s 915ms/step - loss: 0.1121 - accuracy: 0.9604 - val_loss: 1.0874 - val_accuracy: 0.7117\n",
            "Epoch 5/50\n",
            "132/132 [==============================] - 124s 936ms/step - loss: 0.0904 - accuracy: 0.9684 - val_loss: 0.1745 - val_accuracy: 0.9416\n",
            "Epoch 6/50\n",
            "132/132 [==============================] - 125s 949ms/step - loss: 0.1004 - accuracy: 0.9675 - val_loss: 0.1683 - val_accuracy: 0.9452\n",
            "Epoch 7/50\n",
            "132/132 [==============================] - 110s 835ms/step - loss: 0.1130 - accuracy: 0.9649 - val_loss: 0.2744 - val_accuracy: 0.9217\n",
            "Epoch 8/50\n",
            "132/132 [==============================] - 120s 912ms/step - loss: 0.1039 - accuracy: 0.9630 - val_loss: 0.3377 - val_accuracy: 0.8968\n",
            "Epoch 9/50\n",
            "132/132 [==============================] - 120s 907ms/step - loss: 0.0948 - accuracy: 0.9658 - val_loss: 0.1951 - val_accuracy: 0.9445\n",
            "Epoch 10/50\n",
            "132/132 [==============================] - 125s 944ms/step - loss: 0.0986 - accuracy: 0.9625 - val_loss: 0.3635 - val_accuracy: 0.8712\n",
            "Epoch 11/50\n",
            "132/132 [==============================] - 125s 942ms/step - loss: 0.1008 - accuracy: 0.9668 - val_loss: 1.3912 - val_accuracy: 0.7929\n",
            "Epoch 11: early stopping\n"
          ]
        }
      ],
      "source": [
        "model_history = model.fit(x=training_set,validation_data=validation_set,epochs=50, callbacks = early,verbose=1)"
      ]
    },
    {
      "cell_type": "code",
      "execution_count": 29,
      "metadata": {},
      "outputs": [
        {
          "name": "stdout",
          "output_type": "stream",
          "text": [
            "1405/1405 [==============================] - 13s 9ms/step - loss: 1.3912 - accuracy: 0.7929\n"
          ]
        },
        {
          "data": {
            "text/plain": [
              "[1.391221046447754, 0.7928825616836548]"
            ]
          },
          "execution_count": 29,
          "metadata": {},
          "output_type": "execute_result"
        }
      ],
      "source": [
        "model.evaluate(validation_set)"
      ]
    },
    {
      "cell_type": "code",
      "execution_count": null,
      "metadata": {},
      "outputs": [],
      "source": [
        "model.evaluate"
      ]
    },
    {
      "cell_type": "code",
      "execution_count": 35,
      "metadata": {},
      "outputs": [],
      "source": [
        "model2.compile(loss='categorical_crossentropy', metrics=['accuracy'], optimizer=opt)"
      ]
    },
    {
      "cell_type": "code",
      "execution_count": 36,
      "metadata": {},
      "outputs": [
        {
          "name": "stdout",
          "output_type": "stream",
          "text": [
            "Epoch 1/50\n",
            "132/132 [==============================] - 110s 828ms/step - loss: 1.1452 - accuracy: 0.5991 - val_loss: 1.3629 - val_accuracy: 0.4669\n",
            "Epoch 2/50\n",
            "132/132 [==============================] - 105s 793ms/step - loss: 0.6694 - accuracy: 0.7333 - val_loss: 1.2329 - val_accuracy: 0.5004\n",
            "Epoch 3/50\n",
            "132/132 [==============================] - 105s 794ms/step - loss: 0.5536 - accuracy: 0.7862 - val_loss: 0.6694 - val_accuracy: 0.7452\n",
            "Epoch 4/50\n",
            "132/132 [==============================] - 106s 800ms/step - loss: 0.4800 - accuracy: 0.8152 - val_loss: 0.6595 - val_accuracy: 0.7416\n",
            "Epoch 5/50\n",
            "132/132 [==============================] - 106s 803ms/step - loss: 0.4050 - accuracy: 0.8456 - val_loss: 0.7548 - val_accuracy: 0.7395\n",
            "Epoch 6/50\n",
            "132/132 [==============================] - 106s 798ms/step - loss: 0.3612 - accuracy: 0.8679 - val_loss: 0.7103 - val_accuracy: 0.7210\n",
            "Epoch 7/50\n",
            "132/132 [==============================] - 106s 804ms/step - loss: 0.3396 - accuracy: 0.8769 - val_loss: 0.6134 - val_accuracy: 0.7438\n",
            "Epoch 8/50\n",
            "132/132 [==============================] - 106s 800ms/step - loss: 0.2952 - accuracy: 0.8904 - val_loss: 0.4244 - val_accuracy: 0.8384\n",
            "Epoch 9/50\n",
            "132/132 [==============================] - 106s 803ms/step - loss: 0.2870 - accuracy: 0.8894 - val_loss: 0.7301 - val_accuracy: 0.7445\n",
            "Epoch 10/50\n",
            "132/132 [==============================] - 106s 803ms/step - loss: 0.2544 - accuracy: 0.9096 - val_loss: 1.1950 - val_accuracy: 0.6399\n",
            "Epoch 11/50\n",
            "132/132 [==============================] - 107s 808ms/step - loss: 0.2401 - accuracy: 0.9136 - val_loss: 1.1345 - val_accuracy: 0.6762\n",
            "Epoch 12/50\n",
            "132/132 [==============================] - 112s 848ms/step - loss: 0.2272 - accuracy: 0.9144 - val_loss: 1.0290 - val_accuracy: 0.7573\n",
            "Epoch 13/50\n",
            "132/132 [==============================] - 119s 897ms/step - loss: 0.2191 - accuracy: 0.9186 - val_loss: 1.6163 - val_accuracy: 0.7125\n",
            "Epoch 14/50\n",
            "132/132 [==============================] - 122s 922ms/step - loss: 0.2199 - accuracy: 0.9205 - val_loss: 0.3221 - val_accuracy: 0.8740\n",
            "Epoch 15/50\n",
            "132/132 [==============================] - 149s 1s/step - loss: 0.1783 - accuracy: 0.9326 - val_loss: 0.7274 - val_accuracy: 0.8050\n",
            "Epoch 16/50\n",
            "132/132 [==============================] - 171s 1s/step - loss: 0.1807 - accuracy: 0.9348 - val_loss: 0.8128 - val_accuracy: 0.7288\n",
            "Epoch 17/50\n",
            "132/132 [==============================] - 172s 1s/step - loss: 0.1652 - accuracy: 0.9388 - val_loss: 0.2276 - val_accuracy: 0.9260\n",
            "Epoch 18/50\n",
            "132/132 [==============================] - 177s 1s/step - loss: 0.1673 - accuracy: 0.9324 - val_loss: 0.6799 - val_accuracy: 0.7744\n",
            "Epoch 19/50\n",
            "132/132 [==============================] - 178s 1s/step - loss: 0.1616 - accuracy: 0.9423 - val_loss: 0.2364 - val_accuracy: 0.9139\n",
            "Epoch 20/50\n",
            "132/132 [==============================] - 179s 1s/step - loss: 0.1221 - accuracy: 0.9573 - val_loss: 0.3382 - val_accuracy: 0.8726\n",
            "Epoch 21/50\n",
            "132/132 [==============================] - 179s 1s/step - loss: 0.1311 - accuracy: 0.9533 - val_loss: 0.2606 - val_accuracy: 0.9082\n",
            "Epoch 22/50\n",
            "132/132 [==============================] - 162s 1s/step - loss: 0.1392 - accuracy: 0.9495 - val_loss: 0.9191 - val_accuracy: 0.7623\n",
            "Epoch 23/50\n",
            "132/132 [==============================] - 99s 752ms/step - loss: 0.1291 - accuracy: 0.9568 - val_loss: 0.4983 - val_accuracy: 0.8463\n",
            "Epoch 24/50\n",
            "132/132 [==============================] - 107s 810ms/step - loss: 0.1284 - accuracy: 0.9542 - val_loss: 0.2512 - val_accuracy: 0.9174\n",
            "Epoch 25/50\n",
            "132/132 [==============================] - 110s 830ms/step - loss: 0.1204 - accuracy: 0.9573 - val_loss: 0.2384 - val_accuracy: 0.9181\n",
            "Epoch 25: early stopping\n"
          ]
        }
      ],
      "source": [
        "model_history = model2.fit(x=training_set,validation_data=validation_set,epochs=50, callbacks = early,verbose=1)"
      ]
    },
    {
      "cell_type": "code",
      "execution_count": 52,
      "metadata": {},
      "outputs": [],
      "source": [
        "model3.compile(loss='categorical_crossentropy', metrics=['accuracy'], optimizer=opt)"
      ]
    },
    {
      "cell_type": "code",
      "execution_count": 1,
      "metadata": {},
      "outputs": [
        {
          "ename": "NameError",
          "evalue": "name 'model3' is not defined",
          "output_type": "error",
          "traceback": [
            "\u001b[0;31m---------------------------------------------------------------------------\u001b[0m",
            "\u001b[0;31mNameError\u001b[0m                                 Traceback (most recent call last)",
            "\u001b[1;32m/home/noor/Documents/new_test/test.ipynb Cell 45\u001b[0m in \u001b[0;36m<cell line: 1>\u001b[0;34m()\u001b[0m\n\u001b[0;32m----> <a href='vscode-notebook-cell:/home/noor/Documents/new_test/test.ipynb#X62sZmlsZQ%3D%3D?line=0'>1</a>\u001b[0m model_history \u001b[39m=\u001b[39m model3\u001b[39m.\u001b[39mfit(x\u001b[39m=\u001b[39mtraining_set,validation_data\u001b[39m=\u001b[39mvalidation_set,epochs\u001b[39m=\u001b[39m\u001b[39m50\u001b[39m,batch_size\u001b[39m=\u001b[39m\u001b[39m64\u001b[39m, callbacks \u001b[39m=\u001b[39m early,verbose\u001b[39m=\u001b[39m\u001b[39m1\u001b[39m)\n",
            "\u001b[0;31mNameError\u001b[0m: name 'model3' is not defined"
          ]
        }
      ],
      "source": [
        "model_history = model3.fit(x=training_set,validation_data=validation_set,epochs=50,batch_size=64, callbacks = early,verbose=1)"
      ]
    },
    {
      "cell_type": "code",
      "execution_count": 38,
      "metadata": {},
      "outputs": [
        {
          "name": "stdout",
          "output_type": "stream",
          "text": [
            "1406/1406 [==============================] - 12s 9ms/step - loss: 1.3735 - accuracy: 0.7873\n"
          ]
        },
        {
          "data": {
            "text/plain": [
              "[1.3735157251358032, 0.787339985370636]"
            ]
          },
          "execution_count": 38,
          "metadata": {},
          "output_type": "execute_result"
        }
      ],
      "source": [
        "model.evaluate(test_set)"
      ]
    },
    {
      "cell_type": "code",
      "execution_count": 39,
      "metadata": {},
      "outputs": [
        {
          "name": "stdout",
          "output_type": "stream",
          "text": [
            "1406/1406 [==============================] - 12s 9ms/step - loss: 0.1946 - accuracy: 0.9403\n"
          ]
        },
        {
          "data": {
            "text/plain": [
              "[0.194618821144104, 0.9402560591697693]"
            ]
          },
          "execution_count": 39,
          "metadata": {},
          "output_type": "execute_result"
        }
      ],
      "source": [
        "model2.evaluate(test_set)"
      ]
    },
    {
      "cell_type": "code",
      "execution_count": 40,
      "metadata": {},
      "outputs": [],
      "source": [
        "def plot_confusion_matrix(true_lab,predict_lab,classes,path):\n",
        "  matrix_confusion = tf.math.confusion_matrix(labels=true_lab, predictions=predicted_lab, num_classes=len(classes))\n",
        "  ax = plt.subplot()\n",
        "  sns.heatmap(matrix_confusion, square=True, annot=True, cmap='Blues', fmt='d', cbar=True)\n",
        "  ax.set_xlabel('Predicted labels')\n",
        "  ax.set_ylabel('True labels')\n",
        "  ax.set_title('Confusion Matrix')\n",
        "  ax.xaxis.set_ticklabels(classes)\n",
        "  ax.yaxis.set_ticklabels(classes)\n",
        "  plt.savefig(f'{path}confusion_matrix.png')"
      ]
    },
    {
      "cell_type": "code",
      "execution_count": 41,
      "metadata": {},
      "outputs": [],
      "source": [
        "def dump_text(text,path):\n",
        "  text_file = open(path, \"w\")\n",
        "  text_file.write(text)\n",
        "  text_file.close()"
      ]
    },
    {
      "cell_type": "code",
      "execution_count": 44,
      "metadata": {},
      "outputs": [],
      "source": [
        "savepath = '/home/noor/Documents/new_test/'"
      ]
    },
    {
      "cell_type": "code",
      "execution_count": 47,
      "metadata": {},
      "outputs": [
        {
          "name": "stdout",
          "output_type": "stream",
          "text": [
            "1406/1406 [==============================] - 12s 9ms/step\n",
            "              precision    recall  f1-score   support\n",
            "\n",
            "      glioma       0.98      0.84      0.90       294\n",
            "  meningioma       0.86      0.94      0.90       358\n",
            "     notumor       0.96      0.99      0.97       397\n",
            "   pituitary       0.98      0.97      0.98       357\n",
            "\n",
            "    accuracy                           0.94      1406\n",
            "   macro avg       0.95      0.93      0.94      1406\n",
            "weighted avg       0.94      0.94      0.94      1406\n",
            "\n"
          ]
        },
        {
          "data": {
            "image/png": "[encoded data removed]",
            "text/plain": [
              "<Figure size 432x288 with 2 Axes>"
            ]
          },
          "metadata": {
            "needs_background": "light"
          },
          "output_type": "display_data"
        }
      ],
      "source": [
        "p = model2.predict(test_set)\n",
        "predicted_lab = p.argmax(axis=-1)\n",
        "true_lab = test_set.classes\n",
        "plot_confusion_matrix(true_lab, predicted_lab, test_set.class_indices.keys(),savepath)\n",
        "report = classification_report(true_lab, predicted_lab, target_names=test_set.class_indices.keys())\n",
        "print(report)\n",
        "dump_text(report,f'{savepath}classification_report.txt')"
      ]
    }
  ],
  "metadata": {
    "accelerator": "GPU",
    "colab": {
      "collapsed_sections": [],
      "name": "Untitled0.ipynb",
      "provenance": []
    },
    "gpuClass": "standard",
    "kernelspec": {
      "display_name": "Python 3.10.4 64-bit",
      "language": "python",
      "name": "python3"
    },
    "language_info": {
      "codemirror_mode": {
        "name": "ipython",
        "version": 3
      },
      "file_extension": ".py",
      "mimetype": "text/x-python",
      "name": "python",
      "nbconvert_exporter": "python",
      "pygments_lexer": "ipython3",
      "version": "3.10.4"
    },
    "vscode": {
      "interpreter": {
        "hash": "916dbcbb3f70747c44a77c7bcd40155683ae19c65e1c03b4aa3499c5328201f1"
      }
    }
  },
  "nbformat": 4,
  "nbformat_minor": 0
}
